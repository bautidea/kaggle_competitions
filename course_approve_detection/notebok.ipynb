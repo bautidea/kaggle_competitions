{
 "cells": [
  {
   "cell_type": "markdown",
   "metadata": {},
   "source": [
    "### Imports"
   ]
  },
  {
   "cell_type": "code",
   "execution_count": 1,
   "metadata": {},
   "outputs": [],
   "source": [
    "# Analysis and wrangling.\n",
    "import pandas as pd\n",
    "import numpy as np\n",
    "\n",
    "# Graphics libraries.\n",
    "import seaborn as sns\n",
    "import matplotlib.pyplot as plt\n",
    "import plotly.express as px\n",
    "import plotly.graph_objects as go\n",
    "from plotly.subplots import make_subplots"
   ]
  },
  {
   "cell_type": "markdown",
   "metadata": {},
   "source": [
    "### Loading data / brief analysis."
   ]
  },
  {
   "cell_type": "code",
   "execution_count": 37,
   "metadata": {},
   "outputs": [
    {
     "data": {
      "text/html": [
       "<div>\n",
       "<style scoped>\n",
       "    .dataframe tbody tr th:only-of-type {\n",
       "        vertical-align: middle;\n",
       "    }\n",
       "\n",
       "    .dataframe tbody tr th {\n",
       "        vertical-align: top;\n",
       "    }\n",
       "\n",
       "    .dataframe thead th {\n",
       "        text-align: right;\n",
       "    }\n",
       "</style>\n",
       "<table border=\"1\" class=\"dataframe\">\n",
       "  <thead>\n",
       "    <tr style=\"text-align: right;\">\n",
       "      <th></th>\n",
       "      <th>particion</th>\n",
       "      <th>periodo</th>\n",
       "      <th>nota_final_materia</th>\n",
       "      <th>fecha_mesa_epoch</th>\n",
       "      <th>nombre_examen</th>\n",
       "      <th>nota_parcial</th>\n",
       "      <th>assignment_id</th>\n",
       "      <th>ass_name</th>\n",
       "      <th>ass_created_at</th>\n",
       "      <th>ass_due_at</th>\n",
       "      <th>...</th>\n",
       "      <th>sub_uuid</th>\n",
       "      <th>score</th>\n",
       "      <th>submission_type</th>\n",
       "      <th>s_submitted_at</th>\n",
       "      <th>s_graded_at</th>\n",
       "      <th>s_created_at</th>\n",
       "      <th>user_uuid</th>\n",
       "      <th>course_uuid</th>\n",
       "      <th>course_name</th>\n",
       "      <th>legajo</th>\n",
       "    </tr>\n",
       "  </thead>\n",
       "  <tbody>\n",
       "    <tr>\n",
       "      <th>11042</th>\n",
       "      <td>52</td>\n",
       "      <td>1-2022</td>\n",
       "      <td>4.0</td>\n",
       "      <td>NaN</td>\n",
       "      <td>NaN</td>\n",
       "      <td>NaN</td>\n",
       "      <td>NaN</td>\n",
       "      <td>NaN</td>\n",
       "      <td>NaN</td>\n",
       "      <td>NaN</td>\n",
       "      <td>...</td>\n",
       "      <td>NaN</td>\n",
       "      <td>NaN</td>\n",
       "      <td>NaN</td>\n",
       "      <td>NaN</td>\n",
       "      <td>NaN</td>\n",
       "      <td>NaN</td>\n",
       "      <td>2bc2fb30-95f8-42ff-b29e-8babf90640ce</td>\n",
       "      <td>3dfb4eb6-2ccf-4c00-91b6-a0cabe1bfa4b</td>\n",
       "      <td>Reduced mission-critical attitude</td>\n",
       "      <td>286422CWL</td>\n",
       "    </tr>\n",
       "    <tr>\n",
       "      <th>116610</th>\n",
       "      <td>14</td>\n",
       "      <td>1-2022</td>\n",
       "      <td>10.0</td>\n",
       "      <td>NaN</td>\n",
       "      <td>NaN</td>\n",
       "      <td>NaN</td>\n",
       "      <td>NaN</td>\n",
       "      <td>NaN</td>\n",
       "      <td>NaN</td>\n",
       "      <td>NaN</td>\n",
       "      <td>...</td>\n",
       "      <td>NaN</td>\n",
       "      <td>NaN</td>\n",
       "      <td>NaN</td>\n",
       "      <td>NaN</td>\n",
       "      <td>NaN</td>\n",
       "      <td>NaN</td>\n",
       "      <td>ded91bdd-7998-4502-b2cb-9b0081eb3464</td>\n",
       "      <td>d1ecb02f-5535-41ac-a0ee-9e620c3d84ca</td>\n",
       "      <td>Configurable human-resource challenge</td>\n",
       "      <td>614851WSA</td>\n",
       "    </tr>\n",
       "    <tr>\n",
       "      <th>47128</th>\n",
       "      <td>48</td>\n",
       "      <td>01-2022</td>\n",
       "      <td>10.0</td>\n",
       "      <td>NaN</td>\n",
       "      <td>NaN</td>\n",
       "      <td>NaN</td>\n",
       "      <td>192216.0</td>\n",
       "      <td>Actividad Práctica Integradora 4 [API4]</td>\n",
       "      <td>1.643061e+09</td>\n",
       "      <td>1.646017e+09</td>\n",
       "      <td>...</td>\n",
       "      <td>NaN</td>\n",
       "      <td>NaN</td>\n",
       "      <td>NaN</td>\n",
       "      <td>NaN</td>\n",
       "      <td>NaN</td>\n",
       "      <td>NaN</td>\n",
       "      <td>9058d92e-7977-45d5-a87b-04ae11500779</td>\n",
       "      <td>c15fb5d7-88cb-40be-9ce1-b8236193d46b</td>\n",
       "      <td>Organic background secured line</td>\n",
       "      <td>665061QFW</td>\n",
       "    </tr>\n",
       "  </tbody>\n",
       "</table>\n",
       "<p>3 rows × 24 columns</p>\n",
       "</div>"
      ],
      "text/plain": [
       "        particion  periodo  nota_final_materia  fecha_mesa_epoch  \\\n",
       "11042          52   1-2022                 4.0               NaN   \n",
       "116610         14   1-2022                10.0               NaN   \n",
       "47128          48  01-2022                10.0               NaN   \n",
       "\n",
       "       nombre_examen  nota_parcial  assignment_id  \\\n",
       "11042            NaN           NaN            NaN   \n",
       "116610           NaN           NaN            NaN   \n",
       "47128            NaN           NaN       192216.0   \n",
       "\n",
       "                                       ass_name  ass_created_at    ass_due_at  \\\n",
       "11042                                       NaN             NaN           NaN   \n",
       "116610                                      NaN             NaN           NaN   \n",
       "47128   Actividad Práctica Integradora 4 [API4]    1.643061e+09  1.646017e+09   \n",
       "\n",
       "        ...  sub_uuid  score  submission_type s_submitted_at s_graded_at  \\\n",
       "11042   ...       NaN    NaN              NaN            NaN         NaN   \n",
       "116610  ...       NaN    NaN              NaN            NaN         NaN   \n",
       "47128   ...       NaN    NaN              NaN            NaN         NaN   \n",
       "\n",
       "        s_created_at                             user_uuid  \\\n",
       "11042            NaN  2bc2fb30-95f8-42ff-b29e-8babf90640ce   \n",
       "116610           NaN  ded91bdd-7998-4502-b2cb-9b0081eb3464   \n",
       "47128            NaN  9058d92e-7977-45d5-a87b-04ae11500779   \n",
       "\n",
       "                                 course_uuid  \\\n",
       "11042   3dfb4eb6-2ccf-4c00-91b6-a0cabe1bfa4b   \n",
       "116610  d1ecb02f-5535-41ac-a0ee-9e620c3d84ca   \n",
       "47128   c15fb5d7-88cb-40be-9ce1-b8236193d46b   \n",
       "\n",
       "                                  course_name     legajo  \n",
       "11042       Reduced mission-critical attitude  286422CWL  \n",
       "116610  Configurable human-resource challenge  614851WSA  \n",
       "47128         Organic background secured line  665061QFW  \n",
       "\n",
       "[3 rows x 24 columns]"
      ]
     },
     "execution_count": 37,
     "metadata": {},
     "output_type": "execute_result"
    }
   ],
   "source": [
    "student_df = pd.read_csv('./data/challenge_MLE.csv', sep=';')\n",
    "student_df.sample(3)"
   ]
  },
  {
   "cell_type": "code",
   "execution_count": 28,
   "metadata": {},
   "outputs": [
    {
     "name": "stdout",
     "output_type": "stream",
     "text": [
      "<class 'pandas.core.frame.DataFrame'>\n",
      "RangeIndex: 196124 entries, 0 to 196123\n",
      "Data columns (total 24 columns):\n",
      " #   Column              Non-Null Count   Dtype         \n",
      "---  ------              --------------   -----         \n",
      " 0   particion           196124 non-null  int64         \n",
      " 1   periodo             196124 non-null  object        \n",
      " 2   nota_final_materia  196124 non-null  float64       \n",
      " 3   fecha_mesa_epoch    7010 non-null    datetime64[ns]\n",
      " 4   nombre_examen       7010 non-null    object        \n",
      " 5   nota_parcial        7010 non-null    float64       \n",
      " 6   assignment_id       26061 non-null   float64       \n",
      " 7   ass_name            26061 non-null   object        \n",
      " 8   ass_created_at      26061 non-null   float64       \n",
      " 9   ass_due_at          26061 non-null   float64       \n",
      " 10  ass_unlock_at       24760 non-null   float64       \n",
      " 11  ass_lock_at         25979 non-null   float64       \n",
      " 12  points_possible     26061 non-null   float64       \n",
      " 13  ass_name_sub        24206 non-null   object        \n",
      " 14  sub_uuid            24206 non-null   object        \n",
      " 15  score               23876 non-null   float64       \n",
      " 16  submission_type     24206 non-null   object        \n",
      " 17  s_submitted_at      24206 non-null   float64       \n",
      " 18  s_graded_at         23877 non-null   float64       \n",
      " 19  s_created_at        24206 non-null   float64       \n",
      " 20  user_uuid           196124 non-null  object        \n",
      " 21  course_uuid         196124 non-null  object        \n",
      " 22  course_name         196124 non-null  object        \n",
      " 23  legajo              196124 non-null  object        \n",
      "dtypes: datetime64[ns](1), float64(12), int64(1), object(10)\n",
      "memory usage: 35.9+ MB\n"
     ]
    }
   ],
   "source": [
    "# Getting to know df.\n",
    "student_df.info()"
   ]
  },
  {
   "cell_type": "code",
   "execution_count": 29,
   "metadata": {},
   "outputs": [
    {
     "data": {
      "text/html": [
       "<div>\n",
       "<style scoped>\n",
       "    .dataframe tbody tr th:only-of-type {\n",
       "        vertical-align: middle;\n",
       "    }\n",
       "\n",
       "    .dataframe tbody tr th {\n",
       "        vertical-align: top;\n",
       "    }\n",
       "\n",
       "    .dataframe thead th {\n",
       "        text-align: right;\n",
       "    }\n",
       "</style>\n",
       "<table border=\"1\" class=\"dataframe\">\n",
       "  <thead>\n",
       "    <tr style=\"text-align: right;\">\n",
       "      <th></th>\n",
       "      <th>0</th>\n",
       "      <th>1</th>\n",
       "    </tr>\n",
       "  </thead>\n",
       "  <tbody>\n",
       "    <tr>\n",
       "      <th>particion</th>\n",
       "      <td>0.0</td>\n",
       "      <td>0.00</td>\n",
       "    </tr>\n",
       "    <tr>\n",
       "      <th>periodo</th>\n",
       "      <td>0.0</td>\n",
       "      <td>0.00</td>\n",
       "    </tr>\n",
       "    <tr>\n",
       "      <th>nota_final_materia</th>\n",
       "      <td>0.0</td>\n",
       "      <td>0.00</td>\n",
       "    </tr>\n",
       "    <tr>\n",
       "      <th>fecha_mesa_epoch</th>\n",
       "      <td>189114.0</td>\n",
       "      <td>96.43</td>\n",
       "    </tr>\n",
       "    <tr>\n",
       "      <th>nombre_examen</th>\n",
       "      <td>189114.0</td>\n",
       "      <td>96.43</td>\n",
       "    </tr>\n",
       "    <tr>\n",
       "      <th>nota_parcial</th>\n",
       "      <td>189114.0</td>\n",
       "      <td>96.43</td>\n",
       "    </tr>\n",
       "    <tr>\n",
       "      <th>assignment_id</th>\n",
       "      <td>170063.0</td>\n",
       "      <td>86.71</td>\n",
       "    </tr>\n",
       "    <tr>\n",
       "      <th>ass_name</th>\n",
       "      <td>170063.0</td>\n",
       "      <td>86.71</td>\n",
       "    </tr>\n",
       "    <tr>\n",
       "      <th>ass_created_at</th>\n",
       "      <td>170063.0</td>\n",
       "      <td>86.71</td>\n",
       "    </tr>\n",
       "    <tr>\n",
       "      <th>ass_due_at</th>\n",
       "      <td>170063.0</td>\n",
       "      <td>86.71</td>\n",
       "    </tr>\n",
       "    <tr>\n",
       "      <th>ass_unlock_at</th>\n",
       "      <td>171364.0</td>\n",
       "      <td>87.38</td>\n",
       "    </tr>\n",
       "    <tr>\n",
       "      <th>ass_lock_at</th>\n",
       "      <td>170145.0</td>\n",
       "      <td>86.75</td>\n",
       "    </tr>\n",
       "    <tr>\n",
       "      <th>points_possible</th>\n",
       "      <td>170063.0</td>\n",
       "      <td>86.71</td>\n",
       "    </tr>\n",
       "    <tr>\n",
       "      <th>ass_name_sub</th>\n",
       "      <td>171918.0</td>\n",
       "      <td>87.66</td>\n",
       "    </tr>\n",
       "    <tr>\n",
       "      <th>sub_uuid</th>\n",
       "      <td>171918.0</td>\n",
       "      <td>87.66</td>\n",
       "    </tr>\n",
       "    <tr>\n",
       "      <th>score</th>\n",
       "      <td>172248.0</td>\n",
       "      <td>87.83</td>\n",
       "    </tr>\n",
       "    <tr>\n",
       "      <th>submission_type</th>\n",
       "      <td>171918.0</td>\n",
       "      <td>87.66</td>\n",
       "    </tr>\n",
       "    <tr>\n",
       "      <th>s_submitted_at</th>\n",
       "      <td>171918.0</td>\n",
       "      <td>87.66</td>\n",
       "    </tr>\n",
       "    <tr>\n",
       "      <th>s_graded_at</th>\n",
       "      <td>172247.0</td>\n",
       "      <td>87.83</td>\n",
       "    </tr>\n",
       "    <tr>\n",
       "      <th>s_created_at</th>\n",
       "      <td>171918.0</td>\n",
       "      <td>87.66</td>\n",
       "    </tr>\n",
       "    <tr>\n",
       "      <th>user_uuid</th>\n",
       "      <td>0.0</td>\n",
       "      <td>0.00</td>\n",
       "    </tr>\n",
       "    <tr>\n",
       "      <th>course_uuid</th>\n",
       "      <td>0.0</td>\n",
       "      <td>0.00</td>\n",
       "    </tr>\n",
       "    <tr>\n",
       "      <th>course_name</th>\n",
       "      <td>0.0</td>\n",
       "      <td>0.00</td>\n",
       "    </tr>\n",
       "    <tr>\n",
       "      <th>legajo</th>\n",
       "      <td>0.0</td>\n",
       "      <td>0.00</td>\n",
       "    </tr>\n",
       "  </tbody>\n",
       "</table>\n",
       "</div>"
      ],
      "text/plain": [
       "                           0      1\n",
       "particion                0.0   0.00\n",
       "periodo                  0.0   0.00\n",
       "nota_final_materia       0.0   0.00\n",
       "fecha_mesa_epoch    189114.0  96.43\n",
       "nombre_examen       189114.0  96.43\n",
       "nota_parcial        189114.0  96.43\n",
       "assignment_id       170063.0  86.71\n",
       "ass_name            170063.0  86.71\n",
       "ass_created_at      170063.0  86.71\n",
       "ass_due_at          170063.0  86.71\n",
       "ass_unlock_at       171364.0  87.38\n",
       "ass_lock_at         170145.0  86.75\n",
       "points_possible     170063.0  86.71\n",
       "ass_name_sub        171918.0  87.66\n",
       "sub_uuid            171918.0  87.66\n",
       "score               172248.0  87.83\n",
       "submission_type     171918.0  87.66\n",
       "s_submitted_at      171918.0  87.66\n",
       "s_graded_at         172247.0  87.83\n",
       "s_created_at        171918.0  87.66\n",
       "user_uuid                0.0   0.00\n",
       "course_uuid              0.0   0.00\n",
       "course_name              0.0   0.00\n",
       "legajo                   0.0   0.00"
      ]
     },
     "execution_count": 29,
     "metadata": {},
     "output_type": "execute_result"
    }
   ],
   "source": [
    "# Checking nulls.\n",
    "pd.DataFrame([student_df.isnull().sum(), (student_df.isnull().sum() / student_df.shape[0] * 100).round(2)]).T"
   ]
  },
  {
   "cell_type": "markdown",
   "metadata": {},
   "source": [
    "# Analyzing data."
   ]
  },
  {
   "cell_type": "code",
   "execution_count": 34,
   "metadata": {},
   "outputs": [
    {
     "data": {
      "text/plain": [
       "<AxesSubplot: >"
      ]
     },
     "execution_count": 34,
     "metadata": {},
     "output_type": "execute_result"
    },
    {
     "data": {
      "image/png": "[encoded data removed]",
      "text/plain": [
       "<Figure size 640x480 with 1 Axes>"
      ]
     },
     "metadata": {},
     "output_type": "display_data"
    }
   ],
   "source": [
    "# Checking the time partition.\n",
    "student_df['particion'].hist()"
   ]
  },
  {
   "cell_type": "code",
   "execution_count": 36,
   "metadata": {},
   "outputs": [
    {
     "data": {
      "text/plain": [
       "1-2022     187854\n",
       "01-2022      7730\n",
       "2-2022        540\n",
       "Name: periodo, dtype: int64"
      ]
     },
     "execution_count": 36,
     "metadata": {},
     "output_type": "execute_result"
    }
   ],
   "source": [
    "# Checking the time partition.\n",
    "student_df['periodo'].value_counts()"
   ]
  },
  {
   "cell_type": "code",
   "execution_count": 38,
   "metadata": {},
   "outputs": [
    {
     "data": {
      "text/plain": [
       "<AxesSubplot: >"
      ]
     },
     "execution_count": 38,
     "metadata": {},
     "output_type": "execute_result"
    },
    {
     "data": {
      "image/png": "[encoded data removed]",
      "text/plain": [
       "<Figure size 640x480 with 1 Axes>"
      ]
     },
     "metadata": {},
     "output_type": "display_data"
    }
   ],
   "source": [
    "student_df['nota_final_materia'].hist()"
   ]
  },
  {
   "cell_type": "code",
   "execution_count": 40,
   "metadata": {},
   "outputs": [
    {
     "data": {
      "text/plain": [
       "518e8c5f-6632-450b-bcee-518807ff2e9f    1017\n",
       "ded91bdd-7998-4502-b2cb-9b0081eb3464     824\n",
       "f2dbd20e-13f8-4d5c-b4ee-70b5ed837d5a     824\n",
       "0f58fa3f-0015-4064-99d9-ad9cb96b8fe6     814\n",
       "21056e82-1fe6-45a8-a059-a5a6387619c9     799\n",
       "                                        ... \n",
       "59db8682-a866-4f35-97d1-fbebd7675088      60\n",
       "8b4d4ea7-664d-473c-8f6c-280744e645d4      60\n",
       "df99c926-9a5c-495a-803b-fe1c94743cbb      60\n",
       "35bf6215-6f70-43f2-afd8-e668e5735347      60\n",
       "ed4e3e5e-5c10-4187-91f7-82114442b119      60\n",
       "Name: user_uuid, Length: 600, dtype: int64"
      ]
     },
     "execution_count": 40,
     "metadata": {},
     "output_type": "execute_result"
    }
   ],
   "source": [
    "student_df['user_uuid'].value_counts()"
   ]
  },
  {
   "cell_type": "code",
   "execution_count": 41,
   "metadata": {},
   "outputs": [
    {
     "data": {
      "text/plain": [
       "2b274b15-83bb-4629-941e-fdc573af4e0b    11439\n",
       "c78af3b4-4574-4a82-8c41-45195ce43384    10341\n",
       "12bb6bfa-8b01-46a8-8cc2-e0e84785fa1e     4555\n",
       "0034afe6-e996-4c26-b0b9-24dbb9535465     3997\n",
       "68005d22-90dc-42f6-b90a-409714481cbc     3537\n",
       "                                        ...  \n",
       "c7608367-bb39-4722-9270-c93058669c2b       60\n",
       "c68a3c33-51e2-4dd0-9536-2288eca94fe5       60\n",
       "132ed50b-ec8b-4ad1-973d-f02eab433a34       60\n",
       "aef3ac91-4ee5-4f4e-a7cf-620094fa81dc       60\n",
       "dc53bcc5-440d-4bab-93c7-a749c9eddd85       60\n",
       "Name: course_uuid, Length: 582, dtype: int64"
      ]
     },
     "execution_count": 41,
     "metadata": {},
     "output_type": "execute_result"
    }
   ],
   "source": [
    "student_df['course_uuid'].value_counts()"
   ]
  },
  {
   "cell_type": "code",
   "execution_count": 42,
   "metadata": {},
   "outputs": [
    {
     "data": {
      "text/plain": [
       "Intuitive non-volatile ability                11439\n",
       "Object-based leadingedge help-desk            10341\n",
       "Face-to-face regional concept                  4555\n",
       "Stand-alone upward-trending secured line       4262\n",
       "Total radical adapter                          3537\n",
       "                                              ...  \n",
       "Monitored regional artificial intelligence       60\n",
       "Grass-roots national middleware                  60\n",
       "Multi-channeled homogeneous policy               60\n",
       "Operative fresh-thinking knowledge user          60\n",
       "Operative systematic help-desk                   60\n",
       "Name: course_name, Length: 561, dtype: int64"
      ]
     },
     "execution_count": 42,
     "metadata": {},
     "output_type": "execute_result"
    }
   ],
   "source": [
    "student_df['course_name'].value_counts()"
   ]
  },
  {
   "cell_type": "code",
   "execution_count": 43,
   "metadata": {},
   "outputs": [
    {
     "data": {
      "text/plain": [
       "624097JCN    1017\n",
       "614851WSA     824\n",
       "694137GRI     824\n",
       "303555JEN     814\n",
       "220932BSH     799\n",
       "             ... \n",
       "517004GYP      60\n",
       "715923CNS      60\n",
       "763896XAM      60\n",
       "890983ESM      60\n",
       "263794IKM      60\n",
       "Name: legajo, Length: 601, dtype: int64"
      ]
     },
     "execution_count": 43,
     "metadata": {},
     "output_type": "execute_result"
    }
   ],
   "source": [
    "student_df['legajo'].value_counts()"
   ]
  },
  {
   "cell_type": "markdown",
   "metadata": {},
   "source": [
    "From this little analysis i got that the information in this data set is segregated in different levels. Each row is a unique interaction or activity.\n",
    "\n",
    "So the goal will be to analyze the different variables and try to generate other useful variables from them."
   ]
  },
  {
   "cell_type": "markdown",
   "metadata": {},
   "source": []
  }
 ],
 "metadata": {
  "kernelspec": {
   "display_name": "env-juanbdea",
   "language": "python",
   "name": "python3"
  },
  "language_info": {
   "codemirror_mode": {
    "name": "ipython",
    "version": 3
   },
   "file_extension": ".py",
   "mimetype": "text/x-python",
   "name": "python",
   "nbconvert_exporter": "python",
   "pygments_lexer": "ipython3",
   "version": "3.9.15"
  }
 },
 "nbformat": 4,
 "nbformat_minor": 2
}
