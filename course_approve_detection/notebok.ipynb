{
 "cells": [
  {
   "cell_type": "markdown",
   "metadata": {},
   "source": [
    "### Imports"
   ]
  },
  {
   "cell_type": "code",
   "execution_count": 80,
   "metadata": {},
   "outputs": [],
   "source": [
    "# Analysis and wrangling.\n",
    "import pandas as pd\n",
    "import numpy as np\n",
    "\n",
    "# Graphics libraries.\n",
    "import seaborn as sns\n",
    "import matplotlib.pyplot as plt\n",
    "import plotly.express as px\n",
    "import plotly.graph_objects as go\n",
    "from plotly.subplots import make_subplots"
   ]
  },
  {
   "cell_type": "markdown",
   "metadata": {},
   "source": [
    "### Loading data / brief analysis."
   ]
  },
  {
   "cell_type": "code",
   "execution_count": 81,
   "metadata": {},
   "outputs": [
    {
     "data": {
      "text/html": [
       "<div>\n",
       "<style scoped>\n",
       "    .dataframe tbody tr th:only-of-type {\n",
       "        vertical-align: middle;\n",
       "    }\n",
       "\n",
       "    .dataframe tbody tr th {\n",
       "        vertical-align: top;\n",
       "    }\n",
       "\n",
       "    .dataframe thead th {\n",
       "        text-align: right;\n",
       "    }\n",
       "</style>\n",
       "<table border=\"1\" class=\"dataframe\">\n",
       "  <thead>\n",
       "    <tr style=\"text-align: right;\">\n",
       "      <th></th>\n",
       "      <th>particion</th>\n",
       "      <th>periodo</th>\n",
       "      <th>nota_final_materia</th>\n",
       "      <th>fecha_mesa_epoch</th>\n",
       "      <th>nombre_examen</th>\n",
       "      <th>nota_parcial</th>\n",
       "      <th>assignment_id</th>\n",
       "      <th>ass_name</th>\n",
       "      <th>ass_created_at</th>\n",
       "      <th>ass_due_at</th>\n",
       "      <th>...</th>\n",
       "      <th>sub_uuid</th>\n",
       "      <th>score</th>\n",
       "      <th>submission_type</th>\n",
       "      <th>s_submitted_at</th>\n",
       "      <th>s_graded_at</th>\n",
       "      <th>s_created_at</th>\n",
       "      <th>user_uuid</th>\n",
       "      <th>course_uuid</th>\n",
       "      <th>course_name</th>\n",
       "      <th>legajo</th>\n",
       "    </tr>\n",
       "  </thead>\n",
       "  <tbody>\n",
       "    <tr>\n",
       "      <th>27783</th>\n",
       "      <td>20</td>\n",
       "      <td>1-2022</td>\n",
       "      <td>9.0</td>\n",
       "      <td>NaT</td>\n",
       "      <td>NaN</td>\n",
       "      <td>NaN</td>\n",
       "      <td>NaN</td>\n",
       "      <td>NaN</td>\n",
       "      <td>NaN</td>\n",
       "      <td>NaN</td>\n",
       "      <td>...</td>\n",
       "      <td>NaN</td>\n",
       "      <td>NaN</td>\n",
       "      <td>NaN</td>\n",
       "      <td>NaN</td>\n",
       "      <td>NaN</td>\n",
       "      <td>NaN</td>\n",
       "      <td>e854aa87-9ce5-4b8b-9399-5e201cbd4c29</td>\n",
       "      <td>e14f5a9d-992e-4d5f-b9e2-a0c723b4219b</td>\n",
       "      <td>Cloned radical algorithm</td>\n",
       "      <td>262705GPS</td>\n",
       "    </tr>\n",
       "    <tr>\n",
       "      <th>100787</th>\n",
       "      <td>34</td>\n",
       "      <td>1-2022</td>\n",
       "      <td>10.0</td>\n",
       "      <td>NaT</td>\n",
       "      <td>NaN</td>\n",
       "      <td>NaN</td>\n",
       "      <td>NaN</td>\n",
       "      <td>NaN</td>\n",
       "      <td>NaN</td>\n",
       "      <td>NaN</td>\n",
       "      <td>...</td>\n",
       "      <td>NaN</td>\n",
       "      <td>NaN</td>\n",
       "      <td>NaN</td>\n",
       "      <td>NaN</td>\n",
       "      <td>NaN</td>\n",
       "      <td>NaN</td>\n",
       "      <td>3369ae37-7a6d-48cc-92f6-cc36a5e7b915</td>\n",
       "      <td>119495b0-07dc-45b4-a3c1-706ed67e1d8e</td>\n",
       "      <td>Triple-buffered high-level intranet</td>\n",
       "      <td>150798KGY</td>\n",
       "    </tr>\n",
       "    <tr>\n",
       "      <th>125416</th>\n",
       "      <td>21</td>\n",
       "      <td>1-2022</td>\n",
       "      <td>6.0</td>\n",
       "      <td>NaT</td>\n",
       "      <td>NaN</td>\n",
       "      <td>NaN</td>\n",
       "      <td>NaN</td>\n",
       "      <td>NaN</td>\n",
       "      <td>NaN</td>\n",
       "      <td>NaN</td>\n",
       "      <td>...</td>\n",
       "      <td>NaN</td>\n",
       "      <td>NaN</td>\n",
       "      <td>NaN</td>\n",
       "      <td>NaN</td>\n",
       "      <td>NaN</td>\n",
       "      <td>NaN</td>\n",
       "      <td>cb71385e-66fb-40bb-8004-11817365cf09</td>\n",
       "      <td>c34374c5-f9eb-4535-b5cb-82fa62062aec</td>\n",
       "      <td>Switchable heuristic array</td>\n",
       "      <td>018426RKB</td>\n",
       "    </tr>\n",
       "  </tbody>\n",
       "</table>\n",
       "<p>3 rows × 24 columns</p>\n",
       "</div>"
      ],
      "text/plain": [
       "        particion periodo  nota_final_materia fecha_mesa_epoch nombre_examen  \\\n",
       "27783          20  1-2022                 9.0              NaT           NaN   \n",
       "100787         34  1-2022                10.0              NaT           NaN   \n",
       "125416         21  1-2022                 6.0              NaT           NaN   \n",
       "\n",
       "        nota_parcial  assignment_id ass_name  ass_created_at  ass_due_at  ...  \\\n",
       "27783            NaN            NaN      NaN             NaN         NaN  ...   \n",
       "100787           NaN            NaN      NaN             NaN         NaN  ...   \n",
       "125416           NaN            NaN      NaN             NaN         NaN  ...   \n",
       "\n",
       "        sub_uuid  score  submission_type s_submitted_at s_graded_at  \\\n",
       "27783        NaN    NaN              NaN            NaN         NaN   \n",
       "100787       NaN    NaN              NaN            NaN         NaN   \n",
       "125416       NaN    NaN              NaN            NaN         NaN   \n",
       "\n",
       "        s_created_at                             user_uuid  \\\n",
       "27783            NaN  e854aa87-9ce5-4b8b-9399-5e201cbd4c29   \n",
       "100787           NaN  3369ae37-7a6d-48cc-92f6-cc36a5e7b915   \n",
       "125416           NaN  cb71385e-66fb-40bb-8004-11817365cf09   \n",
       "\n",
       "                                 course_uuid  \\\n",
       "27783   e14f5a9d-992e-4d5f-b9e2-a0c723b4219b   \n",
       "100787  119495b0-07dc-45b4-a3c1-706ed67e1d8e   \n",
       "125416  c34374c5-f9eb-4535-b5cb-82fa62062aec   \n",
       "\n",
       "                                course_name     legajo  \n",
       "27783              Cloned radical algorithm  262705GPS  \n",
       "100787  Triple-buffered high-level intranet  150798KGY  \n",
       "125416           Switchable heuristic array  018426RKB  \n",
       "\n",
       "[3 rows x 24 columns]"
      ]
     },
     "execution_count": 81,
     "metadata": {},
     "output_type": "execute_result"
    }
   ],
   "source": [
    "student_df = pd.read_csv('./data/challenge_MLE.csv', sep=';')\n",
    "\n",
    "# Transforming epoch to datetime\n",
    "student_df['fecha_mesa_epoch'] = pd.to_datetime(student_df['fecha_mesa_epoch'], unit='s')\n",
    "\n",
    "# Droping duplicates.\n",
    "student_df.drop_duplicates(inplace=True)\n",
    "\n",
    "student_df.sample(3)"
   ]
  },
  {
   "cell_type": "code",
   "execution_count": 82,
   "metadata": {},
   "outputs": [
    {
     "name": "stdout",
     "output_type": "stream",
     "text": [
      "<class 'pandas.core.frame.DataFrame'>\n",
      "Index: 194394 entries, 0 to 196123\n",
      "Data columns (total 24 columns):\n",
      " #   Column              Non-Null Count   Dtype         \n",
      "---  ------              --------------   -----         \n",
      " 0   particion           194394 non-null  int64         \n",
      " 1   periodo             194394 non-null  object        \n",
      " 2   nota_final_materia  194394 non-null  float64       \n",
      " 3   fecha_mesa_epoch    7010 non-null    datetime64[ns]\n",
      " 4   nombre_examen       7010 non-null    object        \n",
      " 5   nota_parcial        7010 non-null    float64       \n",
      " 6   assignment_id       25807 non-null   float64       \n",
      " 7   ass_name            25807 non-null   object        \n",
      " 8   ass_created_at      25807 non-null   float64       \n",
      " 9   ass_due_at          25807 non-null   float64       \n",
      " 10  ass_unlock_at       24529 non-null   float64       \n",
      " 11  ass_lock_at         25726 non-null   float64       \n",
      " 12  points_possible     25807 non-null   float64       \n",
      " 13  ass_name_sub        23993 non-null   object        \n",
      " 14  sub_uuid            23993 non-null   object        \n",
      " 15  score               23664 non-null   float64       \n",
      " 16  submission_type     23993 non-null   object        \n",
      " 17  s_submitted_at      23993 non-null   float64       \n",
      " 18  s_graded_at         23665 non-null   float64       \n",
      " 19  s_created_at        23993 non-null   float64       \n",
      " 20  user_uuid           194394 non-null  object        \n",
      " 21  course_uuid         194394 non-null  object        \n",
      " 22  course_name         194394 non-null  object        \n",
      " 23  legajo              194394 non-null  object        \n",
      "dtypes: datetime64[ns](1), float64(12), int64(1), object(10)\n",
      "memory usage: 37.1+ MB\n"
     ]
    }
   ],
   "source": [
    "# Getting to know df.\n",
    "student_df.info()"
   ]
  },
  {
   "cell_type": "code",
   "execution_count": 83,
   "metadata": {},
   "outputs": [
    {
     "data": {
      "text/html": [
       "<div>\n",
       "<style scoped>\n",
       "    .dataframe tbody tr th:only-of-type {\n",
       "        vertical-align: middle;\n",
       "    }\n",
       "\n",
       "    .dataframe tbody tr th {\n",
       "        vertical-align: top;\n",
       "    }\n",
       "\n",
       "    .dataframe thead th {\n",
       "        text-align: right;\n",
       "    }\n",
       "</style>\n",
       "<table border=\"1\" class=\"dataframe\">\n",
       "  <thead>\n",
       "    <tr style=\"text-align: right;\">\n",
       "      <th></th>\n",
       "      <th>0</th>\n",
       "      <th>1</th>\n",
       "    </tr>\n",
       "  </thead>\n",
       "  <tbody>\n",
       "    <tr>\n",
       "      <th>particion</th>\n",
       "      <td>0.0</td>\n",
       "      <td>0.00</td>\n",
       "    </tr>\n",
       "    <tr>\n",
       "      <th>periodo</th>\n",
       "      <td>0.0</td>\n",
       "      <td>0.00</td>\n",
       "    </tr>\n",
       "    <tr>\n",
       "      <th>nota_final_materia</th>\n",
       "      <td>0.0</td>\n",
       "      <td>0.00</td>\n",
       "    </tr>\n",
       "    <tr>\n",
       "      <th>fecha_mesa_epoch</th>\n",
       "      <td>187384.0</td>\n",
       "      <td>96.39</td>\n",
       "    </tr>\n",
       "    <tr>\n",
       "      <th>nombre_examen</th>\n",
       "      <td>187384.0</td>\n",
       "      <td>96.39</td>\n",
       "    </tr>\n",
       "    <tr>\n",
       "      <th>nota_parcial</th>\n",
       "      <td>187384.0</td>\n",
       "      <td>96.39</td>\n",
       "    </tr>\n",
       "    <tr>\n",
       "      <th>assignment_id</th>\n",
       "      <td>168587.0</td>\n",
       "      <td>86.72</td>\n",
       "    </tr>\n",
       "    <tr>\n",
       "      <th>ass_name</th>\n",
       "      <td>168587.0</td>\n",
       "      <td>86.72</td>\n",
       "    </tr>\n",
       "    <tr>\n",
       "      <th>ass_created_at</th>\n",
       "      <td>168587.0</td>\n",
       "      <td>86.72</td>\n",
       "    </tr>\n",
       "    <tr>\n",
       "      <th>ass_due_at</th>\n",
       "      <td>168587.0</td>\n",
       "      <td>86.72</td>\n",
       "    </tr>\n",
       "    <tr>\n",
       "      <th>ass_unlock_at</th>\n",
       "      <td>169865.0</td>\n",
       "      <td>87.38</td>\n",
       "    </tr>\n",
       "    <tr>\n",
       "      <th>ass_lock_at</th>\n",
       "      <td>168668.0</td>\n",
       "      <td>86.77</td>\n",
       "    </tr>\n",
       "    <tr>\n",
       "      <th>points_possible</th>\n",
       "      <td>168587.0</td>\n",
       "      <td>86.72</td>\n",
       "    </tr>\n",
       "    <tr>\n",
       "      <th>ass_name_sub</th>\n",
       "      <td>170401.0</td>\n",
       "      <td>87.66</td>\n",
       "    </tr>\n",
       "    <tr>\n",
       "      <th>sub_uuid</th>\n",
       "      <td>170401.0</td>\n",
       "      <td>87.66</td>\n",
       "    </tr>\n",
       "    <tr>\n",
       "      <th>score</th>\n",
       "      <td>170730.0</td>\n",
       "      <td>87.83</td>\n",
       "    </tr>\n",
       "    <tr>\n",
       "      <th>submission_type</th>\n",
       "      <td>170401.0</td>\n",
       "      <td>87.66</td>\n",
       "    </tr>\n",
       "    <tr>\n",
       "      <th>s_submitted_at</th>\n",
       "      <td>170401.0</td>\n",
       "      <td>87.66</td>\n",
       "    </tr>\n",
       "    <tr>\n",
       "      <th>s_graded_at</th>\n",
       "      <td>170729.0</td>\n",
       "      <td>87.83</td>\n",
       "    </tr>\n",
       "    <tr>\n",
       "      <th>s_created_at</th>\n",
       "      <td>170401.0</td>\n",
       "      <td>87.66</td>\n",
       "    </tr>\n",
       "    <tr>\n",
       "      <th>user_uuid</th>\n",
       "      <td>0.0</td>\n",
       "      <td>0.00</td>\n",
       "    </tr>\n",
       "    <tr>\n",
       "      <th>course_uuid</th>\n",
       "      <td>0.0</td>\n",
       "      <td>0.00</td>\n",
       "    </tr>\n",
       "    <tr>\n",
       "      <th>course_name</th>\n",
       "      <td>0.0</td>\n",
       "      <td>0.00</td>\n",
       "    </tr>\n",
       "    <tr>\n",
       "      <th>legajo</th>\n",
       "      <td>0.0</td>\n",
       "      <td>0.00</td>\n",
       "    </tr>\n",
       "  </tbody>\n",
       "</table>\n",
       "</div>"
      ],
      "text/plain": [
       "                           0      1\n",
       "particion                0.0   0.00\n",
       "periodo                  0.0   0.00\n",
       "nota_final_materia       0.0   0.00\n",
       "fecha_mesa_epoch    187384.0  96.39\n",
       "nombre_examen       187384.0  96.39\n",
       "nota_parcial        187384.0  96.39\n",
       "assignment_id       168587.0  86.72\n",
       "ass_name            168587.0  86.72\n",
       "ass_created_at      168587.0  86.72\n",
       "ass_due_at          168587.0  86.72\n",
       "ass_unlock_at       169865.0  87.38\n",
       "ass_lock_at         168668.0  86.77\n",
       "points_possible     168587.0  86.72\n",
       "ass_name_sub        170401.0  87.66\n",
       "sub_uuid            170401.0  87.66\n",
       "score               170730.0  87.83\n",
       "submission_type     170401.0  87.66\n",
       "s_submitted_at      170401.0  87.66\n",
       "s_graded_at         170729.0  87.83\n",
       "s_created_at        170401.0  87.66\n",
       "user_uuid                0.0   0.00\n",
       "course_uuid              0.0   0.00\n",
       "course_name              0.0   0.00\n",
       "legajo                   0.0   0.00"
      ]
     },
     "execution_count": 83,
     "metadata": {},
     "output_type": "execute_result"
    }
   ],
   "source": [
    "# Checking nulls.\n",
    "pd.DataFrame([student_df.isnull().sum(), (student_df.isnull().sum() / student_df.shape[0] * 100).round(2)]).T"
   ]
  },
  {
   "cell_type": "markdown",
   "metadata": {},
   "source": [
    "# Analyzing data."
   ]
  },
  {
   "cell_type": "code",
   "execution_count": 84,
   "metadata": {},
   "outputs": [
    {
     "data": {
      "text/plain": [
       "<Axes: >"
      ]
     },
     "execution_count": 84,
     "metadata": {},
     "output_type": "execute_result"
    },
    {
     "data": {
      "image/png": "[encoded data removed]",
      "text/plain": [
       "<Figure size 640x480 with 1 Axes>"
      ]
     },
     "metadata": {},
     "output_type": "display_data"
    }
   ],
   "source": [
    "# Checking the time partition.\n",
    "student_df['particion'].hist()"
   ]
  },
  {
   "cell_type": "code",
   "execution_count": 85,
   "metadata": {},
   "outputs": [
    {
     "data": {
      "text/plain": [
       "periodo\n",
       "1-2022    193854\n",
       "2-2022       540\n",
       "Name: count, dtype: int64"
      ]
     },
     "execution_count": 85,
     "metadata": {},
     "output_type": "execute_result"
    }
   ],
   "source": [
    "# Arranging time column.\n",
    "student_df['periodo'] = student_df['periodo'].str.replace('01', '1')\n",
    "\n",
    "# Checking the time partition.\n",
    "student_df['periodo'].value_counts()"
   ]
  },
  {
   "cell_type": "code",
   "execution_count": 86,
   "metadata": {},
   "outputs": [
    {
     "data": {
      "text/plain": [
       "<Axes: >"
      ]
     },
     "execution_count": 86,
     "metadata": {},
     "output_type": "execute_result"
    },
    {
     "data": {
      "image/png": "[encoded data removed]",
      "text/plain": [
       "<Figure size 640x480 with 1 Axes>"
      ]
     },
     "metadata": {},
     "output_type": "display_data"
    }
   ],
   "source": [
    "student_df['nota_final_materia'].hist()"
   ]
  },
  {
   "cell_type": "code",
   "execution_count": 87,
   "metadata": {},
   "outputs": [
    {
     "data": {
      "text/plain": [
       "user_uuid\n",
       "518e8c5f-6632-450b-bcee-518807ff2e9f    1017\n",
       "ded91bdd-7998-4502-b2cb-9b0081eb3464     824\n",
       "f2dbd20e-13f8-4d5c-b4ee-70b5ed837d5a     757\n",
       "6f171fde-7fb3-48e3-b5c0-e89c23631f1a     751\n",
       "e536d715-fb7a-4e0b-8ac8-bb48a4e39c49     744\n",
       "                                        ... \n",
       "59db8682-a866-4f35-97d1-fbebd7675088      60\n",
       "8b4d4ea7-664d-473c-8f6c-280744e645d4      60\n",
       "df99c926-9a5c-495a-803b-fe1c94743cbb      60\n",
       "35bf6215-6f70-43f2-afd8-e668e5735347      60\n",
       "ed4e3e5e-5c10-4187-91f7-82114442b119      60\n",
       "Name: count, Length: 600, dtype: int64"
      ]
     },
     "execution_count": 87,
     "metadata": {},
     "output_type": "execute_result"
    }
   ],
   "source": [
    "student_df['user_uuid'].value_counts()\n",
    "# the min value for each user is 60, this means each user has a different time partition.\n",
    "# there are 600 students."
   ]
  },
  {
   "cell_type": "code",
   "execution_count": 88,
   "metadata": {},
   "outputs": [
    {
     "data": {
      "text/plain": [
       "course_uuid\n",
       "2b274b15-83bb-4629-941e-fdc573af4e0b    11439\n",
       "c78af3b4-4574-4a82-8c41-45195ce43384    10206\n",
       "12bb6bfa-8b01-46a8-8cc2-e0e84785fa1e     4489\n",
       "0034afe6-e996-4c26-b0b9-24dbb9535465     3864\n",
       "68005d22-90dc-42f6-b90a-409714481cbc     3537\n",
       "                                        ...  \n",
       "c7608367-bb39-4722-9270-c93058669c2b       60\n",
       "c68a3c33-51e2-4dd0-9536-2288eca94fe5       60\n",
       "132ed50b-ec8b-4ad1-973d-f02eab433a34       60\n",
       "aef3ac91-4ee5-4f4e-a7cf-620094fa81dc       60\n",
       "dc53bcc5-440d-4bab-93c7-a749c9eddd85       60\n",
       "Name: count, Length: 582, dtype: int64"
      ]
     },
     "execution_count": 88,
     "metadata": {},
     "output_type": "execute_result"
    }
   ],
   "source": [
    "student_df['course_uuid'].value_counts()\n",
    "# the min value for each course is 60, this means each user has a different time partition.\n",
    "# there are 582 courses id."
   ]
  },
  {
   "cell_type": "code",
   "execution_count": 89,
   "metadata": {},
   "outputs": [
    {
     "data": {
      "text/plain": [
       "course_name\n",
       "Intuitive non-volatile ability                11439\n",
       "Object-based leadingedge help-desk            10206\n",
       "Face-to-face regional concept                  4489\n",
       "Stand-alone upward-trending secured line       4129\n",
       "Total radical adapter                          3537\n",
       "                                              ...  \n",
       "Monitored regional artificial intelligence       60\n",
       "Grass-roots national middleware                  60\n",
       "Multi-channeled homogeneous policy               60\n",
       "Operative fresh-thinking knowledge user          60\n",
       "Operative systematic help-desk                   60\n",
       "Name: count, Length: 561, dtype: int64"
      ]
     },
     "execution_count": 89,
     "metadata": {},
     "output_type": "execute_result"
    }
   ],
   "source": [
    "student_df['course_name'].value_counts()\n",
    "# there are 561 courses names, this doesnt correspond to the amount of curses uuid i've obtained above."
   ]
  },
  {
   "cell_type": "code",
   "execution_count": 90,
   "metadata": {},
   "outputs": [
    {
     "data": {
      "text/plain": [
       "legajo\n",
       "624097JCN    1017\n",
       "614851WSA     824\n",
       "694137GRI     757\n",
       "372740JAI     751\n",
       "210665AGT     744\n",
       "             ... \n",
       "517004GYP      60\n",
       "715923CNS      60\n",
       "763896XAM      60\n",
       "890983ESM      60\n",
       "263794IKM      60\n",
       "Name: count, Length: 601, dtype: int64"
      ]
     },
     "execution_count": 90,
     "metadata": {},
     "output_type": "execute_result"
    }
   ],
   "source": [
    "student_df['legajo'].value_counts()\n",
    "# There are 601 students id, this number doesnt correspond by 1 from the amount of students i've obtained above."
   ]
  },
  {
   "cell_type": "markdown",
   "metadata": {},
   "source": [
    "From this little analysis i got that the information in this data set is segregated in different levels. Each row is a unique interaction or activity.\n",
    "\n",
    "So the goal will be to analyze the different variables and try to generate other useful variables from them.\n",
    "\n",
    "One thing to do before is to check why there are different amount of course_uuid / course_name and user_uuid / legajo"
   ]
  },
  {
   "cell_type": "code",
   "execution_count": 91,
   "metadata": {},
   "outputs": [
    {
     "data": {
      "text/plain": [
       "course_name\n",
       "Monitored fault-tolerant Graphical User Interface    5\n",
       "Profound eco-centric installation                    3\n",
       "Ergonomic needs-based support                        2\n",
       "Customer-focused optimizing attitude                 2\n",
       "Implemented methodical function                      2\n",
       "Quality-focused systemic software                    2\n",
       "Optional exuding alliance                            2\n",
       "Proactive fresh-thinking project                     2\n",
       "Quality-focused leadingedge budgetary management     2\n",
       "Down-sized 24hour migration                          2\n",
       "Enhanced coherent conglomeration                     2\n",
       "Function-based systemic info-mediaries               2\n",
       "Customer-focused multi-state open architecture       2\n",
       "Phased composite orchestration                       2\n",
       "Stand-alone upward-trending secured line             2\n",
       "Cloned radical algorithm                             2\n",
       "Optimized object-oriented challenge                  2\n",
       "Name: count, dtype: int64"
      ]
     },
     "execution_count": 91,
     "metadata": {},
     "output_type": "execute_result"
    }
   ],
   "source": [
    "repeated_course_name = student_df.value_counts(['course_name','course_uuid']).reset_index()\n",
    "repeated_course_name['course_name'].value_counts()[0:17]"
   ]
  },
  {
   "cell_type": "code",
   "execution_count": 92,
   "metadata": {},
   "outputs": [
    {
     "data": {
      "text/plain": [
       "user_uuid\n",
       "9d0a3bf7-7efc-405f-bd96-60d75f6033b4    2\n",
       "Name: count, dtype: int64"
      ]
     },
     "execution_count": 92,
     "metadata": {},
     "output_type": "execute_result"
    }
   ],
   "source": [
    "repeated_student = student_df.value_counts(['user_uuid','legajo']).reset_index()\n",
    "repeated_student['user_uuid'].value_counts()[:1]"
   ]
  },
  {
   "cell_type": "markdown",
   "metadata": {},
   "source": [
    "# Data Wrangling."
   ]
  },
  {
   "cell_type": "markdown",
   "metadata": {},
   "source": [
    "im going top start by creating a unique variable that im going to use as index, by using the features user_uuid/course_uuid/particion"
   ]
  },
  {
   "cell_type": "code",
   "execution_count": 96,
   "metadata": {},
   "outputs": [
    {
     "data": {
      "text/html": [
       "<div>\n",
       "<style scoped>\n",
       "    .dataframe tbody tr th:only-of-type {\n",
       "        vertical-align: middle;\n",
       "    }\n",
       "\n",
       "    .dataframe tbody tr th {\n",
       "        vertical-align: top;\n",
       "    }\n",
       "\n",
       "    .dataframe thead th {\n",
       "        text-align: right;\n",
       "    }\n",
       "</style>\n",
       "<table border=\"1\" class=\"dataframe\">\n",
       "  <thead>\n",
       "    <tr style=\"text-align: right;\">\n",
       "      <th></th>\n",
       "      <th>particion</th>\n",
       "      <th>periodo</th>\n",
       "      <th>nota_final_materia</th>\n",
       "      <th>fecha_mesa_epoch</th>\n",
       "      <th>nombre_examen</th>\n",
       "      <th>nota_parcial</th>\n",
       "      <th>assignment_id</th>\n",
       "      <th>ass_name</th>\n",
       "      <th>ass_created_at</th>\n",
       "      <th>ass_due_at</th>\n",
       "      <th>...</th>\n",
       "      <th>score</th>\n",
       "      <th>submission_type</th>\n",
       "      <th>s_submitted_at</th>\n",
       "      <th>s_graded_at</th>\n",
       "      <th>s_created_at</th>\n",
       "      <th>user_uuid</th>\n",
       "      <th>course_uuid</th>\n",
       "      <th>course_name</th>\n",
       "      <th>legajo</th>\n",
       "      <th>index</th>\n",
       "    </tr>\n",
       "  </thead>\n",
       "  <tbody>\n",
       "    <tr>\n",
       "      <th>159501</th>\n",
       "      <td>32</td>\n",
       "      <td>1-2022</td>\n",
       "      <td>5.0</td>\n",
       "      <td>NaT</td>\n",
       "      <td>NaN</td>\n",
       "      <td>NaN</td>\n",
       "      <td>NaN</td>\n",
       "      <td>NaN</td>\n",
       "      <td>NaN</td>\n",
       "      <td>NaN</td>\n",
       "      <td>...</td>\n",
       "      <td>NaN</td>\n",
       "      <td>NaN</td>\n",
       "      <td>NaN</td>\n",
       "      <td>NaN</td>\n",
       "      <td>NaN</td>\n",
       "      <td>2aca9718-523f-4cb5-8b83-ed362699e0fd</td>\n",
       "      <td>d6c3b308-12c6-42e4-b544-4b0db85904e1</td>\n",
       "      <td>Multi-tiered tertiary array</td>\n",
       "      <td>024514ISR</td>\n",
       "      <td>2aca9718-523f-4cb5-8b83-ed362699e0fd/d6c3b308-...</td>\n",
       "    </tr>\n",
       "    <tr>\n",
       "      <th>85288</th>\n",
       "      <td>40</td>\n",
       "      <td>1-2022</td>\n",
       "      <td>8.0</td>\n",
       "      <td>NaT</td>\n",
       "      <td>NaN</td>\n",
       "      <td>NaN</td>\n",
       "      <td>NaN</td>\n",
       "      <td>NaN</td>\n",
       "      <td>NaN</td>\n",
       "      <td>NaN</td>\n",
       "      <td>...</td>\n",
       "      <td>NaN</td>\n",
       "      <td>NaN</td>\n",
       "      <td>NaN</td>\n",
       "      <td>NaN</td>\n",
       "      <td>NaN</td>\n",
       "      <td>73b2767e-97a7-4bfe-9078-46e6a4bc2faf</td>\n",
       "      <td>0034afe6-e996-4c26-b0b9-24dbb9535465</td>\n",
       "      <td>Stand-alone upward-trending secured line</td>\n",
       "      <td>613632LZQ</td>\n",
       "      <td>73b2767e-97a7-4bfe-9078-46e6a4bc2faf/0034afe6-...</td>\n",
       "    </tr>\n",
       "  </tbody>\n",
       "</table>\n",
       "<p>2 rows × 25 columns</p>\n",
       "</div>"
      ],
      "text/plain": [
       "        particion periodo  nota_final_materia fecha_mesa_epoch nombre_examen  \\\n",
       "159501         32  1-2022                 5.0              NaT           NaN   \n",
       "85288          40  1-2022                 8.0              NaT           NaN   \n",
       "\n",
       "        nota_parcial  assignment_id ass_name  ass_created_at  ass_due_at  ...  \\\n",
       "159501           NaN            NaN      NaN             NaN         NaN  ...   \n",
       "85288            NaN            NaN      NaN             NaN         NaN  ...   \n",
       "\n",
       "        score  submission_type  s_submitted_at s_graded_at s_created_at  \\\n",
       "159501    NaN              NaN             NaN         NaN          NaN   \n",
       "85288     NaN              NaN             NaN         NaN          NaN   \n",
       "\n",
       "                                   user_uuid  \\\n",
       "159501  2aca9718-523f-4cb5-8b83-ed362699e0fd   \n",
       "85288   73b2767e-97a7-4bfe-9078-46e6a4bc2faf   \n",
       "\n",
       "                                 course_uuid  \\\n",
       "159501  d6c3b308-12c6-42e4-b544-4b0db85904e1   \n",
       "85288   0034afe6-e996-4c26-b0b9-24dbb9535465   \n",
       "\n",
       "                                     course_name     legajo  \\\n",
       "159501               Multi-tiered tertiary array  024514ISR   \n",
       "85288   Stand-alone upward-trending secured line  613632LZQ   \n",
       "\n",
       "                                                    index  \n",
       "159501  2aca9718-523f-4cb5-8b83-ed362699e0fd/d6c3b308-...  \n",
       "85288   73b2767e-97a7-4bfe-9078-46e6a4bc2faf/0034afe6-...  \n",
       "\n",
       "[2 rows x 25 columns]"
      ]
     },
     "execution_count": 96,
     "metadata": {},
     "output_type": "execute_result"
    }
   ],
   "source": [
    "student_df['index'] = student_df['user_uuid'] + '/' + student_df['course_uuid']\n",
    "student_df.sample(2)"
   ]
  },
  {
   "cell_type": "code",
   "execution_count": 97,
   "metadata": {},
   "outputs": [
    {
     "data": {
      "text/plain": [
       "2969"
      ]
     },
     "execution_count": 97,
     "metadata": {},
     "output_type": "execute_result"
    }
   ],
   "source": [
    "# Amount of unique formed indexes.\n",
    "len(student_df['index'].unique())"
   ]
  },
  {
   "cell_type": "code",
   "execution_count": 107,
   "metadata": {},
   "outputs": [
    {
     "data": {
      "text/plain": [
       "index                                                                      nota_final_materia\n",
       "01103370-3046-4bc0-a8f8-85858ec0ec88/2dd2ca01-a672-4eca-aca7-6fbc8cd01953  7.0                   2\n",
       "01103370-3046-4bc0-a8f8-85858ec0ec88/a8c25bca-c5e5-4225-b51e-f61468d20386  9.0                   2\n",
       "01103370-3046-4bc0-a8f8-85858ec0ec88/bf8d7a98-903d-4dea-b4d2-275394aa0a06  8.0                   2\n",
       "01103370-3046-4bc0-a8f8-85858ec0ec88/d17e238c-c4c6-40d7-8085-801268d6d723  9.0                   2\n",
       "01103370-3046-4bc0-a8f8-85858ec0ec88/e1b3a8df-6ed2-45b9-b623-58037efe9b98  10.0                  0\n",
       "                                                                                                ..\n",
       "ff6b6af0-b7d7-42f4-821d-afd5ee6ef9a5/12bb6bfa-8b01-46a8-8cc2-e0e84785fa1e  8.0                   3\n",
       "ff6b6af0-b7d7-42f4-821d-afd5ee6ef9a5/2b274b15-83bb-4629-941e-fdc573af4e0b  9.0                   2\n",
       "ff6b6af0-b7d7-42f4-821d-afd5ee6ef9a5/68005d22-90dc-42f6-b90a-409714481cbc  7.0                   3\n",
       "ff6b6af0-b7d7-42f4-821d-afd5ee6ef9a5/c78af3b4-4574-4a82-8c41-45195ce43384  7.0                   1\n",
       "ff6b6af0-b7d7-42f4-821d-afd5ee6ef9a5/f3632565-3ab8-4b7f-9ced-097ce82eb1c5  7.0                   2\n",
       "Name: fecha_mesa_epoch, Length: 2969, dtype: int64"
      ]
     },
     "execution_count": 107,
     "metadata": {},
     "output_type": "execute_result"
    }
   ],
   "source": [
    "student_df.groupby(['index','nota_final_materia'])['fecha_mesa_epoch'].count()"
   ]
  },
  {
   "cell_type": "code",
   "execution_count": null,
   "metadata": {},
   "outputs": [],
   "source": []
  }
 ],
 "metadata": {
  "kernelspec": {
   "display_name": "env-juanbdea",
   "language": "python",
   "name": "python3"
  },
  "language_info": {
   "codemirror_mode": {
    "name": "ipython",
    "version": 3
   },
   "file_extension": ".py",
   "mimetype": "text/x-python",
   "name": "python",
   "nbconvert_exporter": "python",
   "pygments_lexer": "ipython3",
   "version": "3.11.5"
  }
 },
 "nbformat": 4,
 "nbformat_minor": 2
}
