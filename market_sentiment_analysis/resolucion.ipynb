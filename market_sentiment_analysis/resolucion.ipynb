{
 "cells": [
  {
   "cell_type": "markdown",
   "metadata": {},
   "source": [
    "# Imports"
   ]
  },
  {
   "cell_type": "code",
   "execution_count": 1,
   "metadata": {},
   "outputs": [],
   "source": [
    "import pandas as pd\n",
    "import numpy as np\n",
    "import random \n",
    "\n",
    "# Graphing.\n",
    "import matplotlib.pyplot as plt\n",
    "import seaborn as sns\n",
    "import plotly.express as px\n",
    "\n",
    "# Text Processing.\n",
    "import nltk\n",
    "from nltk.corpus import stopwords\n",
    "import unicodedata\n",
    "import re\n",
    "import spacy"
   ]
  },
  {
   "cell_type": "markdown",
   "metadata": {},
   "source": [
    "# Paths"
   ]
  },
  {
   "cell_type": "code",
   "execution_count": 2,
   "metadata": {},
   "outputs": [],
   "source": [
    "data_path = './data/'\n",
    "\n",
    "data_name = 'dataset.csv'"
   ]
  },
  {
   "cell_type": "markdown",
   "metadata": {},
   "source": [
    "# Load"
   ]
  },
  {
   "cell_type": "code",
   "execution_count": 3,
   "metadata": {},
   "outputs": [
    {
     "name": "stdout",
     "output_type": "stream",
     "text": [
      "(1435, 9)\n"
     ]
    },
    {
     "data": {
      "text/html": [
       "<div>\n",
       "<style scoped>\n",
       "    .dataframe tbody tr th:only-of-type {\n",
       "        vertical-align: middle;\n",
       "    }\n",
       "\n",
       "    .dataframe tbody tr th {\n",
       "        vertical-align: top;\n",
       "    }\n",
       "\n",
       "    .dataframe thead th {\n",
       "        text-align: right;\n",
       "    }\n",
       "</style>\n",
       "<table border=\"1\" class=\"dataframe\">\n",
       "  <thead>\n",
       "    <tr style=\"text-align: right;\">\n",
       "      <th></th>\n",
       "      <th>id_categoria</th>\n",
       "      <th>id_catalogo</th>\n",
       "      <th>id_publicacion</th>\n",
       "      <th>id_comentario</th>\n",
       "      <th>marca</th>\n",
       "      <th>rate</th>\n",
       "      <th>valorization</th>\n",
       "      <th>title</th>\n",
       "      <th>content</th>\n",
       "    </tr>\n",
       "  </thead>\n",
       "  <tbody>\n",
       "    <tr>\n",
       "      <th>0</th>\n",
       "      <td>e45af82f</td>\n",
       "      <td>d7d17801</td>\n",
       "      <td>438bbf39</td>\n",
       "      <td>419611d7</td>\n",
       "      <td>A</td>\n",
       "      <td>5</td>\n",
       "      <td>2</td>\n",
       "      <td>Excelente</td>\n",
       "      <td>Lamparas para un bote de 8 centímetros de diám...</td>\n",
       "    </tr>\n",
       "    <tr>\n",
       "      <th>1</th>\n",
       "      <td>e45af82f</td>\n",
       "      <td>d7d17801</td>\n",
       "      <td>438bbf39</td>\n",
       "      <td>23e52627</td>\n",
       "      <td>A</td>\n",
       "      <td>3</td>\n",
       "      <td>0</td>\n",
       "      <td>Bueno</td>\n",
       "      <td>Tengo 10 lámparas de estas, en menos de 2 años...</td>\n",
       "    </tr>\n",
       "    <tr>\n",
       "      <th>2</th>\n",
       "      <td>e45af82f</td>\n",
       "      <td>80f01ab6</td>\n",
       "      <td>3e7e9ca6</td>\n",
       "      <td>20c689b0</td>\n",
       "      <td>A</td>\n",
       "      <td>5</td>\n",
       "      <td>0</td>\n",
       "      <td>Excelente</td>\n",
       "      <td>Excelente compra muy bonitas.</td>\n",
       "    </tr>\n",
       "    <tr>\n",
       "      <th>3</th>\n",
       "      <td>e45af82f</td>\n",
       "      <td>80f01ab6</td>\n",
       "      <td>3e7e9ca6</td>\n",
       "      <td>839dca70</td>\n",
       "      <td>A</td>\n",
       "      <td>5</td>\n",
       "      <td>0</td>\n",
       "      <td>Excelente</td>\n",
       "      <td>Hermosas.</td>\n",
       "    </tr>\n",
       "    <tr>\n",
       "      <th>4</th>\n",
       "      <td>e45af82f</td>\n",
       "      <td>80f01ab6</td>\n",
       "      <td>3e7e9ca6</td>\n",
       "      <td>378878a3</td>\n",
       "      <td>A</td>\n",
       "      <td>5</td>\n",
       "      <td>0</td>\n",
       "      <td>Excelente</td>\n",
       "      <td>Muy bonita mejor se lo que se ve el la foto.</td>\n",
       "    </tr>\n",
       "  </tbody>\n",
       "</table>\n",
       "</div>"
      ],
      "text/plain": [
       "  id_categoria id_catalogo id_publicacion id_comentario marca  rate  \\\n",
       "0     e45af82f    d7d17801       438bbf39      419611d7     A     5   \n",
       "1     e45af82f    d7d17801       438bbf39      23e52627     A     3   \n",
       "2     e45af82f    80f01ab6       3e7e9ca6      20c689b0     A     5   \n",
       "3     e45af82f    80f01ab6       3e7e9ca6      839dca70     A     5   \n",
       "4     e45af82f    80f01ab6       3e7e9ca6      378878a3     A     5   \n",
       "\n",
       "   valorization      title                                            content  \n",
       "0             2  Excelente  Lamparas para un bote de 8 centímetros de diám...  \n",
       "1             0      Bueno  Tengo 10 lámparas de estas, en menos de 2 años...  \n",
       "2             0  Excelente                      Excelente compra muy bonitas.  \n",
       "3             0  Excelente                                          Hermosas.  \n",
       "4             0  Excelente       Muy bonita mejor se lo que se ve el la foto.  "
      ]
     },
     "execution_count": 3,
     "metadata": {},
     "output_type": "execute_result"
    }
   ],
   "source": [
    "data = pd.read_csv(data_path + data_name, low_memory=False)\n",
    "print(data.shape)\n",
    "data.head()"
   ]
  },
  {
   "cell_type": "code",
   "execution_count": 4,
   "metadata": {},
   "outputs": [
    {
     "data": {
      "text/html": [
       "<div>\n",
       "<style scoped>\n",
       "    .dataframe tbody tr th:only-of-type {\n",
       "        vertical-align: middle;\n",
       "    }\n",
       "\n",
       "    .dataframe tbody tr th {\n",
       "        vertical-align: top;\n",
       "    }\n",
       "\n",
       "    .dataframe thead th {\n",
       "        text-align: right;\n",
       "    }\n",
       "</style>\n",
       "<table border=\"1\" class=\"dataframe\">\n",
       "  <thead>\n",
       "    <tr style=\"text-align: right;\">\n",
       "      <th></th>\n",
       "      <th>rate</th>\n",
       "      <th>valorization</th>\n",
       "    </tr>\n",
       "  </thead>\n",
       "  <tbody>\n",
       "    <tr>\n",
       "      <th>count</th>\n",
       "      <td>1435.000000</td>\n",
       "      <td>1435.000000</td>\n",
       "    </tr>\n",
       "    <tr>\n",
       "      <th>mean</th>\n",
       "      <td>4.563763</td>\n",
       "      <td>0.262718</td>\n",
       "    </tr>\n",
       "    <tr>\n",
       "      <th>std</th>\n",
       "      <td>1.008650</td>\n",
       "      <td>1.265891</td>\n",
       "    </tr>\n",
       "    <tr>\n",
       "      <th>min</th>\n",
       "      <td>1.000000</td>\n",
       "      <td>-2.000000</td>\n",
       "    </tr>\n",
       "    <tr>\n",
       "      <th>25%</th>\n",
       "      <td>5.000000</td>\n",
       "      <td>0.000000</td>\n",
       "    </tr>\n",
       "    <tr>\n",
       "      <th>50%</th>\n",
       "      <td>5.000000</td>\n",
       "      <td>0.000000</td>\n",
       "    </tr>\n",
       "    <tr>\n",
       "      <th>75%</th>\n",
       "      <td>5.000000</td>\n",
       "      <td>0.000000</td>\n",
       "    </tr>\n",
       "    <tr>\n",
       "      <th>max</th>\n",
       "      <td>5.000000</td>\n",
       "      <td>22.000000</td>\n",
       "    </tr>\n",
       "  </tbody>\n",
       "</table>\n",
       "</div>"
      ],
      "text/plain": [
       "              rate  valorization\n",
       "count  1435.000000   1435.000000\n",
       "mean      4.563763      0.262718\n",
       "std       1.008650      1.265891\n",
       "min       1.000000     -2.000000\n",
       "25%       5.000000      0.000000\n",
       "50%       5.000000      0.000000\n",
       "75%       5.000000      0.000000\n",
       "max       5.000000     22.000000"
      ]
     },
     "execution_count": 4,
     "metadata": {},
     "output_type": "execute_result"
    }
   ],
   "source": [
    "data.describe()"
   ]
  },
  {
   "cell_type": "code",
   "execution_count": 5,
   "metadata": {},
   "outputs": [
    {
     "name": "stdout",
     "output_type": "stream",
     "text": [
      "<class 'pandas.core.frame.DataFrame'>\n",
      "RangeIndex: 1435 entries, 0 to 1434\n",
      "Data columns (total 9 columns):\n",
      " #   Column          Non-Null Count  Dtype \n",
      "---  ------          --------------  ----- \n",
      " 0   id_categoria    1435 non-null   object\n",
      " 1   id_catalogo     1435 non-null   object\n",
      " 2   id_publicacion  1435 non-null   object\n",
      " 3   id_comentario   1435 non-null   object\n",
      " 4   marca           1435 non-null   object\n",
      " 5   rate            1435 non-null   int64 \n",
      " 6   valorization    1435 non-null   int64 \n",
      " 7   title           1435 non-null   object\n",
      " 8   content         1419 non-null   object\n",
      "dtypes: int64(2), object(7)\n",
      "memory usage: 101.0+ KB\n"
     ]
    }
   ],
   "source": [
    "data.info()"
   ]
  },
  {
   "cell_type": "code",
   "execution_count": 6,
   "metadata": {},
   "outputs": [
    {
     "data": {
      "text/plain": [
       "id_categoria       0\n",
       "id_catalogo        0\n",
       "id_publicacion     0\n",
       "id_comentario      0\n",
       "marca              0\n",
       "rate               0\n",
       "valorization       0\n",
       "title              0\n",
       "content           16\n",
       "dtype: int64"
      ]
     },
     "execution_count": 6,
     "metadata": {},
     "output_type": "execute_result"
    }
   ],
   "source": [
    "# Observare nulos primero.\n",
    "data.isnull().sum()"
   ]
  },
  {
   "cell_type": "markdown",
   "metadata": {},
   "source": [
    "---"
   ]
  },
  {
   "cell_type": "markdown",
   "metadata": {},
   "source": [
    "# EDA"
   ]
  },
  {
   "cell_type": "code",
   "execution_count": 7,
   "metadata": {},
   "outputs": [],
   "source": [
    "def plot_hist(data, column, is_variable_str=False):\n",
    "    '''Funtion to plot column distribution'''\n",
    "    if is_variable_str:\n",
    "        data[column].value_counts().plot(kind='bar')\n",
    "    else:\n",
    "        data[column].hist()\n",
    "    plt.title(column)\n",
    "    plt.show()"
   ]
  },
  {
   "cell_type": "markdown",
   "metadata": {},
   "source": [
    "## Exploracion de variables."
   ]
  },
  {
   "cell_type": "markdown",
   "metadata": {},
   "source": [
    "Hay 16 registros que tienen la variable 'content' nula, por lo tanto deberemos evaluar si eliminar estos registros ya que no cuentan con informacion para analizar."
   ]
  },
  {
   "cell_type": "code",
   "execution_count": 8,
   "metadata": {},
   "outputs": [
    {
     "name": "stdout",
     "output_type": "stream",
     "text": [
      "Cantidad de categorias: 32\n"
     ]
    }
   ],
   "source": [
    "# Cuantas categorias tenemos.\n",
    "categorias = data['id_categoria'].nunique()\n",
    "print(f'Cantidad de categorias: {categorias}')"
   ]
  },
  {
   "cell_type": "code",
   "execution_count": 9,
   "metadata": {},
   "outputs": [
    {
     "name": "stdout",
     "output_type": "stream",
     "text": [
      "Cantidad de catalogos: 213\n"
     ]
    }
   ],
   "source": [
    "# Cuantos catalogos.\n",
    "catalogos = data['id_catalogo'].nunique()\n",
    "print(f'Cantidad de catalogos: {catalogos}')"
   ]
  },
  {
   "cell_type": "code",
   "execution_count": 10,
   "metadata": {},
   "outputs": [
    {
     "name": "stdout",
     "output_type": "stream",
     "text": [
      "Cantidad de publicaciones: 353\n"
     ]
    }
   ],
   "source": [
    "# Cuantas publicaciones hay.\n",
    "publicaciones = data['id_publicacion'].nunique()\n",
    "print(f'Cantidad de publicaciones: {publicaciones}')"
   ]
  },
  {
   "cell_type": "code",
   "execution_count": 11,
   "metadata": {},
   "outputs": [
    {
     "name": "stdout",
     "output_type": "stream",
     "text": [
      "Cantidad de comentarios: 1435\n",
      "La cantidad de comentarios es igual a la cantidad de registros.\n"
     ]
    }
   ],
   "source": [
    "# Cantidad de comentarios. -> deberia corresponderse con la cantidad de registros\n",
    "comentarios = data['id_comentario'].nunique()\n",
    "print(f'Cantidad de comentarios: {comentarios}')\n",
    "\n",
    "if comentarios == data.shape[0]:\n",
    "    print('La cantidad de comentarios es igual a la cantidad de registros.')\n",
    "else:\n",
    "    print('Podria haber comentarios repetidos.')"
   ]
  },
  {
   "cell_type": "markdown",
   "metadata": {},
   "source": [
    "Tener en cuenta que tenemos 16 registros sin comentarios."
   ]
  },
  {
   "cell_type": "code",
   "execution_count": 12,
   "metadata": {},
   "outputs": [
    {
     "data": {
      "image/png": "[encoded data removed]",
      "text/plain": [
       "<Figure size 640x480 with 1 Axes>"
      ]
     },
     "metadata": {},
     "output_type": "display_data"
    }
   ],
   "source": [
    "# Observo distintas marcas del producto puiblicado.\n",
    "plot_hist(data,'marca', is_variable_str=True)"
   ]
  },
  {
   "cell_type": "code",
   "execution_count": 13,
   "metadata": {},
   "outputs": [
    {
     "data": {
      "image/png": "[encoded data removed]",
      "text/plain": [
       "<Figure size 640x480 with 1 Axes>"
      ]
     },
     "metadata": {},
     "output_type": "display_data"
    }
   ],
   "source": [
    "plot_hist(data,'rate', is_variable_str=False)"
   ]
  },
  {
   "cell_type": "markdown",
   "metadata": {},
   "source": [
    "La mayoria de los productos tienen reviews positivas."
   ]
  },
  {
   "cell_type": "code",
   "execution_count": 14,
   "metadata": {},
   "outputs": [
    {
     "data": {
      "image/png": "[encoded data removed]",
      "text/plain": [
       "<Figure size 640x480 with 1 Axes>"
      ]
     },
     "metadata": {},
     "output_type": "display_data"
    }
   ],
   "source": [
    "# Vamos a observar la distribucion de la valorizacion.\n",
    "plot_hist(data,'valorization', is_variable_str=False)"
   ]
  },
  {
   "cell_type": "code",
   "execution_count": 15,
   "metadata": {},
   "outputs": [
    {
     "data": {
      "text/plain": [
       "<Axes: xlabel='rate', ylabel='mean_valorization'>"
      ]
     },
     "execution_count": 15,
     "metadata": {},
     "output_type": "execute_result"
    },
    {
     "data": {
      "image/png": "[encoded data removed]",
      "text/plain": [
       "<Figure size 640x480 with 1 Axes>"
      ]
     },
     "metadata": {},
     "output_type": "display_data"
    }
   ],
   "source": [
    "# Vamos a ver la valorizacion promedio por rate.\n",
    "df_plot = data.groupby('rate')['valorization'].mean().reset_index(name='mean_valorization')\n",
    "sns.barplot(x='rate', y='mean_valorization', data=df_plot)"
   ]
  },
  {
   "cell_type": "markdown",
   "metadata": {},
   "source": [
    "La valorizacion pareciera tener valores negativos, y ademas la mayoria de las valorizaciones son nulas.\n",
    "\n",
    "Habria que evaluar en mas detalle esta variable para ver si influye significativamente.\n",
    "\n",
    "A primera vista, la utilidad de esta variable podria ser validar, o no, un comentario en X publicacion.\n",
    "\n",
    "- Idea 1: Incluir la variable 'valorization' como variable mas en el modelo, esto nos ayudaria a reforzar un comentario o no (si tuviera valorizacion negativa).\n",
    "\n",
    "- Idea 2: Esta variable tambien podria servir para la creacion del target, por ejemplo, un rate de 4 con valoraciones negativas podria ser categorizado como un comentario neutro.\n",
    "\n",
    "Nota: Como la mayoria de las valoraciones son nulas, creo que es mejor dejarla como feature auxiliar, no como base del target.\n"
   ]
  },
  {
   "cell_type": "code",
   "execution_count": 16,
   "metadata": {},
   "outputs": [
    {
     "data": {
      "image/png": "[encoded data removed]",
      "text/plain": [
       "<Figure size 640x480 with 1 Axes>"
      ]
     },
     "metadata": {},
     "output_type": "display_data"
    }
   ],
   "source": [
    "# Vamos a observar la distribucion del titulo.\n",
    "plot_hist(data,'title', is_variable_str=True)"
   ]
  },
  {
   "cell_type": "code",
   "execution_count": 17,
   "metadata": {},
   "outputs": [
    {
     "data": {
      "text/plain": [
       "rate\n",
       "1                                     [Muy malo]\n",
       "2                                         [Malo]\n",
       "3                                        [Bueno]\n",
       "4                                    [Muy bueno]\n",
       "5    [Excelente, Calidad y precio, Buena compra]\n",
       "Name: title, dtype: object"
      ]
     },
     "execution_count": 17,
     "metadata": {},
     "output_type": "execute_result"
    }
   ],
   "source": [
    "# Voy a observar si el titulo se condice con el rate.\n",
    "# Asi tambien de esa manera podre estudiar como se comporta el rate en funcion del titulo, para comenzar a crear el target.\n",
    "data.groupby(['rate'])['title'].unique()"
   ]
  },
  {
   "cell_type": "markdown",
   "metadata": {},
   "source": [
    "Observando esto vemos que el rate y el titulo estan altamente correlacionados, esto con podria utilizarse para la creacion del target."
   ]
  },
  {
   "cell_type": "markdown",
   "metadata": {},
   "source": [
    "---"
   ]
  },
  {
   "cell_type": "markdown",
   "metadata": {},
   "source": [
    "## Validacion de variables.\n",
    "\n",
    "Aqui realizaremos algunas validaciones para corroborar que lo que se dice en el enunciado efectivamente se esta cumpliendo.\n",
    "\n",
    "Y para analizar la relacion entre variables."
   ]
  },
  {
   "cell_type": "code",
   "execution_count": 18,
   "metadata": {},
   "outputs": [
    {
     "data": {
      "text/plain": [
       "marca\n",
       "1    353\n",
       "Name: count, dtype: int64"
      ]
     },
     "execution_count": 18,
     "metadata": {},
     "output_type": "execute_result"
    }
   ],
   "source": [
    "# Veo si una marca se corresponde a cada publicacion.\n",
    "data.groupby(['id_publicacion'])['marca'].nunique().value_counts()"
   ]
  },
  {
   "cell_type": "markdown",
   "metadata": {},
   "source": [
    "Aqui estamos validando que a cada publicacion se corresponda un UNICO producto."
   ]
  },
  {
   "cell_type": "code",
   "execution_count": 19,
   "metadata": {},
   "outputs": [
    {
     "data": {
      "text/plain": [
       "id_categoria\n",
       "1    353\n",
       "Name: count, dtype: int64"
      ]
     },
     "execution_count": 19,
     "metadata": {},
     "output_type": "execute_result"
    }
   ],
   "source": [
    "# Observo si una publicacion pertenece a una sola categoria.\n",
    "data.groupby(['id_publicacion'])['id_categoria'].nunique().value_counts()"
   ]
  },
  {
   "cell_type": "markdown",
   "metadata": {},
   "source": [
    "Una publicacion pertenece a una unica categoria."
   ]
  },
  {
   "cell_type": "code",
   "execution_count": 20,
   "metadata": {},
   "outputs": [
    {
     "data": {
      "text/plain": [
       "id_catalogo\n",
       "1    353\n",
       "Name: count, dtype: int64"
      ]
     },
     "execution_count": 20,
     "metadata": {},
     "output_type": "execute_result"
    }
   ],
   "source": [
    "# Una publicacion pertenece a un catalogo.\n",
    "data.groupby(['id_publicacion'])['id_catalogo'].nunique().value_counts()"
   ]
  },
  {
   "cell_type": "markdown",
   "metadata": {},
   "source": [
    "Una publicacion pertenece a una unico catalogo."
   ]
  },
  {
   "cell_type": "markdown",
   "metadata": {},
   "source": [
    "---"
   ]
  },
  {
   "cell_type": "markdown",
   "metadata": {},
   "source": [
    "## Analisis Exploratorio"
   ]
  },
  {
   "cell_type": "markdown",
   "metadata": {},
   "source": [
    "### Rate promedio por marca"
   ]
  },
  {
   "cell_type": "code",
   "execution_count": 21,
   "metadata": {},
   "outputs": [
    {
     "data": {
      "text/plain": [
       "<Axes: xlabel='marca', ylabel='rate'>"
      ]
     },
     "execution_count": 21,
     "metadata": {},
     "output_type": "execute_result"
    },
    {
     "data": {
      "image/png": "[encoded data removed]",
      "text/plain": [
       "<Figure size 640x480 with 1 Axes>"
      ]
     },
     "metadata": {},
     "output_type": "display_data"
    }
   ],
   "source": [
    "df_plot = data[['marca', 'rate']].groupby('marca').mean().reset_index()\n",
    "sns.barplot(x='marca', y='rate', data=df_plot)"
   ]
  },
  {
   "cell_type": "markdown",
   "metadata": {},
   "source": [
    "- La marca 'E' tiene el mayor promedio.\n",
    "- El promedio de rates entre las distintas marcas es bastante similar."
   ]
  },
  {
   "cell_type": "markdown",
   "metadata": {},
   "source": [
    "### Cantidad de comentarios por marca."
   ]
  },
  {
   "cell_type": "code",
   "execution_count": 22,
   "metadata": {},
   "outputs": [
    {
     "data": {
      "text/plain": [
       "<Axes: xlabel='marca', ylabel='count'>"
      ]
     },
     "execution_count": 22,
     "metadata": {},
     "output_type": "execute_result"
    },
    {
     "data": {
      "image/png": "[encoded data removed]",
      "text/plain": [
       "<Figure size 640x480 with 1 Axes>"
      ]
     },
     "metadata": {},
     "output_type": "display_data"
    }
   ],
   "source": [
    "df_plot = data[['marca', 'id_comentario']].groupby('marca').size().reset_index(name='count')\n",
    "sns.barplot(x='marca', y='count', data=df_plot)"
   ]
  },
  {
   "cell_type": "markdown",
   "metadata": {},
   "source": [
    "- La marca con mayor cantidad de comentarios es la marca A.\n",
    "- La marca E es la de menor cantidad de comentarios y solo tiene un unico comentario."
   ]
  },
  {
   "cell_type": "markdown",
   "metadata": {},
   "source": [
    "### Publicaciones por marca"
   ]
  },
  {
   "cell_type": "code",
   "execution_count": 23,
   "metadata": {},
   "outputs": [
    {
     "data": {
      "text/plain": [
       "<Axes: xlabel='marca', ylabel='count'>"
      ]
     },
     "execution_count": 23,
     "metadata": {},
     "output_type": "execute_result"
    },
    {
     "data": {
      "image/png": "[encoded data removed]",
      "text/plain": [
       "<Figure size 640x480 with 1 Axes>"
      ]
     },
     "metadata": {},
     "output_type": "display_data"
    }
   ],
   "source": [
    "df_plot = data[['marca', 'id_publicacion']].groupby('marca')['id_publicacion'].nunique().reset_index(name='count')\n",
    "sns.barplot(x='marca', y='count', data=df_plot)"
   ]
  },
  {
   "cell_type": "markdown",
   "metadata": {},
   "source": [
    "- La marca 'A' es la que mayor cantidad de publicaciones tiene.\n",
    "- La marca 'E' es la que menor cantidad de publicaciones tiene, una unica, esa unica publicacion se corresponde con el unico comentario en esa marca."
   ]
  },
  {
   "cell_type": "markdown",
   "metadata": {},
   "source": [
    "### Cantidad de Catalogos por Marca"
   ]
  },
  {
   "cell_type": "code",
   "execution_count": 24,
   "metadata": {},
   "outputs": [
    {
     "data": {
      "text/plain": [
       "<Axes: xlabel='marca', ylabel='count'>"
      ]
     },
     "execution_count": 24,
     "metadata": {},
     "output_type": "execute_result"
    },
    {
     "data": {
      "image/png": "[encoded data removed]",
      "text/plain": [
       "<Figure size 640x480 with 1 Axes>"
      ]
     },
     "metadata": {},
     "output_type": "display_data"
    }
   ],
   "source": [
    "df_plot = data[['marca','id_catalogo']].groupby('marca')['id_catalogo'].nunique().reset_index(name='count')\n",
    "sns.barplot(x='marca', y='count', data=df_plot)"
   ]
  },
  {
   "cell_type": "markdown",
   "metadata": {},
   "source": [
    "- La marca 'A' aparece en la mayoria de los catalogos."
   ]
  },
  {
   "cell_type": "markdown",
   "metadata": {},
   "source": [
    "### Categorias por Marca"
   ]
  },
  {
   "cell_type": "code",
   "execution_count": 25,
   "metadata": {},
   "outputs": [
    {
     "data": {
      "text/plain": [
       "<Axes: xlabel='marca', ylabel='count'>"
      ]
     },
     "execution_count": 25,
     "metadata": {},
     "output_type": "execute_result"
    },
    {
     "data": {
      "image/png": "[encoded data removed]",
      "text/plain": [
       "<Figure size 640x480 with 1 Axes>"
      ]
     },
     "metadata": {},
     "output_type": "display_data"
    }
   ],
   "source": [
    "df_plot = data[['marca','id_categoria']].groupby('marca')['id_categoria'].nunique().reset_index(name='count')\n",
    "sns.barplot(x='marca', y='count', data=df_plot)"
   ]
  },
  {
   "cell_type": "markdown",
   "metadata": {},
   "source": [
    "- Aqui se observa que la Marca 'B' Aparece en mayor cantidad de categorias que la marca 'C', pero aunque aparezca en mayor cantidad de categorias, puede pasar que un catalogo tenga varias publicaciones de una misma marca, por esa razon la marca 'C' tiene mayor cantidad de comentarios que la marca 'B'"
   ]
  },
  {
   "cell_type": "code",
   "execution_count": 26,
   "metadata": {},
   "outputs": [
    {
     "data": {
      "text/plain": [
       "<Axes: xlabel='id_catalogo', ylabel='count'>"
      ]
     },
     "execution_count": 26,
     "metadata": {},
     "output_type": "execute_result"
    },
    {
     "data": {
      "image/png": "[encoded data removed]",
      "text/plain": [
       "<Figure size 640x480 with 1 Axes>"
      ]
     },
     "metadata": {},
     "output_type": "display_data"
    }
   ],
   "source": [
    "# Puede pasar que un catalogo tenga varias publicaciones de un mismo producto?\n",
    "df_plot = data[['id_catalogo', 'id_publicacion', 'marca']].drop_duplicates()\n",
    "df_plot = df_plot.groupby(['id_catalogo', 'marca']).size().reset_index(name='count').sort_values('count', ascending=False)\n",
    "\n",
    "# Voy a seleccionar los 5 catalogos con mayor cantidad de publicaciones.\n",
    "id_max_publicaciones = data.groupby(['id_catalogo'])['id_publicacion'].count().sort_values(ascending=False).index\n",
    "id_max_publicaciones = id_max_publicaciones[0:5].tolist()\n",
    "\n",
    "df_plot = df_plot[df_plot['id_catalogo'].isin(id_max_publicaciones)]\n",
    "sns.barplot(x='id_catalogo', y='count', data=df_plot, hue='marca')"
   ]
  },
  {
   "cell_type": "markdown",
   "metadata": {},
   "source": [
    "En esta muestra podemos observar que un catalogo puede tener varias publicaciones de un mismo producto."
   ]
  },
  {
   "cell_type": "markdown",
   "metadata": {},
   "source": [
    "Obs. Generales:\n",
    "- Puede observarse una distribucion similar en todas las variables (lo que tiene sentido, debido a la correlacion entre la marca y las variables categoria -> catalogo -> publicacion) en donde la mayor cantidad de registros pertenecen a la Marca 'A', y la menor cantidad de registros pertenece a la Marca 'E'."
   ]
  },
  {
   "cell_type": "markdown",
   "metadata": {},
   "source": [
    "---"
   ]
  },
  {
   "cell_type": "markdown",
   "metadata": {},
   "source": [
    "# Labeling\n",
    "\n",
    "En esta seccion crearemos el target o label para clasificar un comentario como \n",
    "- Positivo -> 1\n",
    "- Neutro -> 0\n",
    "- Negativo -> -1"
   ]
  },
  {
   "cell_type": "code",
   "execution_count": 27,
   "metadata": {},
   "outputs": [],
   "source": [
    "def get_labels (rate):\n",
    "    if rate <= 2:\n",
    "        return -1\n",
    "    elif rate == 3:\n",
    "        return 0\n",
    "    elif rate >= 4:\n",
    "        return 1\n",
    "    else:\n",
    "        return np.nan"
   ]
  },
  {
   "cell_type": "code",
   "execution_count": 28,
   "metadata": {},
   "outputs": [
    {
     "data": {
      "text/plain": [
       "rate\n",
       "5    1128\n",
       "4     152\n",
       "1      70\n",
       "3      61\n",
       "2      24\n",
       "Name: count, dtype: int64"
      ]
     },
     "execution_count": 28,
     "metadata": {},
     "output_type": "execute_result"
    }
   ],
   "source": [
    "data['rate'].value_counts()"
   ]
  },
  {
   "cell_type": "code",
   "execution_count": 29,
   "metadata": {},
   "outputs": [
    {
     "data": {
      "text/plain": [
       "target\n",
       " 1    1280\n",
       "-1      94\n",
       " 0      61\n",
       "Name: count, dtype: int64"
      ]
     },
     "execution_count": 29,
     "metadata": {},
     "output_type": "execute_result"
    }
   ],
   "source": [
    "mod_df = data.copy()\n",
    "mod_df['target'] = mod_df['rate'].apply(get_labels)\n",
    "mod_df['target'].value_counts()"
   ]
  },
  {
   "cell_type": "markdown",
   "metadata": {},
   "source": [
    "Como era esperado se tiene un gran desbalance entre la clase positiva y las demas clases."
   ]
  },
  {
   "cell_type": "markdown",
   "metadata": {},
   "source": [
    "---"
   ]
  },
  {
   "cell_type": "markdown",
   "metadata": {},
   "source": [
    "# Preprocesamiento y limpieza de texto\n",
    "\n",
    "En esta seccion limpiamos y estandarizamos el texto.\n",
    "\n",
    "Para limpiar el texto procederemos de la siguiente manera:\n",
    "\n",
    "1. Llevamos toda la cadena de texto a minuscula, para evitar considerar una palabra como token distinta (ej: Producto | producto).\n",
    "\n",
    "2. Eliminacion de tildes y acentos.\n",
    "\n",
    "3. Elimnacion de numeros.\n",
    "\n",
    "4. Eliminacion de signos de puntuacion y caracteres especiales.\n",
    "\n",
    "5. Eliminacion de espacios multiples.\n",
    "\n",
    "6. Aplicacion de Lemmatizacion para reducir las palabras a su raiz etimologica. \n",
    "    * Lemmatizacion siempre devuelve una version reducida de la palabra, es una palabra de la misma familia (ej: comprando | comprado -> comprar).\n",
    "    * Se utiliza Lemmatizacion por sobre Stemming ya que, este ultimo, corta los sufijos de las palabras y estas pueden perder significado (ej: compando -> compr).\n",
    "    * Otra aclaracion, se utilizo el lemmatizador de la libreria spaCY, ya que el lemmatizador de la libreria nltk solo soporta palabras en ingles. Ademas de lo menciondo spaCy es mas confiable ya que soporta texto complejo, reconoce conjucaciones, articulos, adverbios, etc.\n",
    "\n",
    "7. Removemos stopwords, se le dice asi a las palabras poco informativas sobre el contenido del texto (preposiciones, pronombres, etc.)"
   ]
  },
  {
   "cell_type": "code",
   "execution_count": 30,
   "metadata": {},
   "outputs": [
    {
     "name": "stderr",
     "output_type": "stream",
     "text": [
      "[nltk_data] Downloading package stopwords to\n",
      "[nltk_data]     C:\\Users\\juanb\\AppData\\Roaming\\nltk_data...\n",
      "[nltk_data]   Package stopwords is already up-to-date!\n"
     ]
    }
   ],
   "source": [
    "# Configuramos las stopwords.\n",
    "nltk.download('stopwords')\n",
    "stop_words = set(stopwords.words('spanish'))\n",
    "\n",
    "# Como se trata de un DS pequeño, puedo aplicar el modelo preentrenado de spacy large.\n",
    "# Estrare sacrificando velocidad por precision.\n",
    "nlp = spacy.load('es_core_news_lg')\n",
    "\n",
    "# Creamos funcion para limpiar el texto.\n",
    "def clean_text(text):\n",
    "    # Transformo texto a minusculas.\n",
    "    text = str(text).lower()\n",
    "    \n",
    "    # Elimino tildes/acentos.\n",
    "    text = unicodedata.normalize('NFKD', text).encode('ascii', 'ignore').decode('utf-8', 'ignore')\n",
    "    # Elimino numeros.\n",
    "    text = re.sub(r'\\d+', '', text)\n",
    "    # Elimino signos de puntuacion.\n",
    "    text = re.sub(r'[^\\w\\s]', '', text)\n",
    "    # Hay algunos comentarios que tienen la nueva linea como '\\n' especificamente\n",
    "    # reemplazare '\\n' -> ' '\n",
    "    text = re.sub(r'\\n', ' ', text)\n",
    "    # Eliminamos espacios multiples.\n",
    "    text = re.sub(r'\\s+', ' ', text)\n",
    "    \n",
    "    # Lemmatizamos.\n",
    "    tokens = nlp(text)\n",
    "    \n",
    "    # Eliminamos stopwords y elimino signo de puntuacion por si quedara habiendo uno.\n",
    "    tokens = [token.lemma_ for token in tokens if token.lemma_ not in stop_words and not token.is_punct]\n",
    "    \n",
    "    return ' '.join(tokens)"
   ]
  },
  {
   "cell_type": "code",
   "execution_count": null,
   "metadata": {},
   "outputs": [],
   "source": [
    "\n",
    "def search_char_in_column(df, column, char_to_search):\n",
    "    # Esta funcion me devolvera un booleano si el caracter se encuentra en la serie.\n",
    "    # Util para buscar palabras especificas en un texto, lo que hago es escaparle el caracter, esto lo hago\n",
    "    # ya que si utilizamos un carater de regex, '?' por ejemplo, sera interpretado como un caracter especial.\n",
    "    column_serie = df[column]\n",
    "    pattern = re.escape(char_to_search)\n",
    "\n",
    "    mask =  column_serie.astype(str).str.contains(pattern, regex=True)\n",
    "    \n",
    "    return df[mask]"
   ]
  },
  {
   "cell_type": "markdown",
   "metadata": {},
   "source": [
    "## Unir title + content.\n",
    "Algo a tener en cuenta es que unificaremos el campo 'title' con el de 'content', ya que contiene una valorizacion mas especifica del usuario."
   ]
  },
  {
   "cell_type": "code",
   "execution_count": 32,
   "metadata": {},
   "outputs": [
    {
     "data": {
      "text/html": [
       "<div>\n",
       "<style scoped>\n",
       "    .dataframe tbody tr th:only-of-type {\n",
       "        vertical-align: middle;\n",
       "    }\n",
       "\n",
       "    .dataframe tbody tr th {\n",
       "        vertical-align: top;\n",
       "    }\n",
       "\n",
       "    .dataframe thead th {\n",
       "        text-align: right;\n",
       "    }\n",
       "</style>\n",
       "<table border=\"1\" class=\"dataframe\">\n",
       "  <thead>\n",
       "    <tr style=\"text-align: right;\">\n",
       "      <th></th>\n",
       "      <th>title</th>\n",
       "      <th>content</th>\n",
       "      <th>text_label</th>\n",
       "    </tr>\n",
       "  </thead>\n",
       "  <tbody>\n",
       "    <tr>\n",
       "      <th>0</th>\n",
       "      <td>Excelente</td>\n",
       "      <td>Lamparas para un bote de 8 centímetros de diám...</td>\n",
       "      <td>Excelente Lamparas para un bote de 8 centímetr...</td>\n",
       "    </tr>\n",
       "    <tr>\n",
       "      <th>1</th>\n",
       "      <td>Bueno</td>\n",
       "      <td>Tengo 10 lámparas de estas, en menos de 2 años...</td>\n",
       "      <td>Bueno Tengo 10 lámparas de estas, en menos de ...</td>\n",
       "    </tr>\n",
       "    <tr>\n",
       "      <th>2</th>\n",
       "      <td>Excelente</td>\n",
       "      <td>Excelente compra muy bonitas.</td>\n",
       "      <td>Excelente Excelente compra muy bonitas.</td>\n",
       "    </tr>\n",
       "    <tr>\n",
       "      <th>3</th>\n",
       "      <td>Excelente</td>\n",
       "      <td>Hermosas.</td>\n",
       "      <td>Excelente Hermosas.</td>\n",
       "    </tr>\n",
       "    <tr>\n",
       "      <th>4</th>\n",
       "      <td>Excelente</td>\n",
       "      <td>Muy bonita mejor se lo que se ve el la foto.</td>\n",
       "      <td>Excelente Muy bonita mejor se lo que se ve el ...</td>\n",
       "    </tr>\n",
       "  </tbody>\n",
       "</table>\n",
       "</div>"
      ],
      "text/plain": [
       "       title                                            content  \\\n",
       "0  Excelente  Lamparas para un bote de 8 centímetros de diám...   \n",
       "1      Bueno  Tengo 10 lámparas de estas, en menos de 2 años...   \n",
       "2  Excelente                      Excelente compra muy bonitas.   \n",
       "3  Excelente                                          Hermosas.   \n",
       "4  Excelente       Muy bonita mejor se lo que se ve el la foto.   \n",
       "\n",
       "                                          text_label  \n",
       "0  Excelente Lamparas para un bote de 8 centímetr...  \n",
       "1  Bueno Tengo 10 lámparas de estas, en menos de ...  \n",
       "2            Excelente Excelente compra muy bonitas.  \n",
       "3                                Excelente Hermosas.  \n",
       "4  Excelente Muy bonita mejor se lo que se ve el ...  "
      ]
     },
     "execution_count": 32,
     "metadata": {},
     "output_type": "execute_result"
    }
   ],
   "source": [
    "mod_df['text_label'] = mod_df['title'] + ' ' + mod_df['content']\n",
    "\n",
    "mod_df[['title', 'content', 'text_label']].head()"
   ]
  },
  {
   "cell_type": "markdown",
   "metadata": {},
   "source": [
    "## Limpieza de texto."
   ]
  },
  {
   "cell_type": "code",
   "execution_count": null,
   "metadata": {},
   "outputs": [
    {
     "data": {
      "text/plain": [
       "40"
      ]
     },
     "execution_count": 33,
     "metadata": {},
     "output_type": "execute_result"
    }
   ],
   "source": [
    "random_index = random.randint(0, len(mod_df))"
   ]
  },
  {
   "cell_type": "code",
   "execution_count": null,
   "metadata": {},
   "outputs": [
    {
     "data": {
      "text/plain": [
       "<function print(*args, sep=' ', end='\\n', file=None, flush=False)>"
      ]
     },
     "execution_count": 34,
     "metadata": {},
     "output_type": "execute_result"
    }
   ],
   "source": [
    "# Aplicamos la funcion de limpieza de texto y generamos una nueva columna para comparar resultados.\n",
    "mod_df['text_label_clean'] = mod_df['text_label'].apply(clean_text)"
   ]
  },
  {
   "cell_type": "code",
   "execution_count": 42,
   "metadata": {},
   "outputs": [
    {
     "name": "stdout",
     "output_type": "stream",
     "text": [
      "Texto original: Muy bueno Sirven muy bien lo recomiendo.\n",
      "Texto limpio: bueno servir bien recomendar\n",
      "\n",
      "Texto original: Excelente La lámpara está bien chida. Y se sienten los materiales muy bien. Alumbra súper.\n",
      "Texto limpio: excelente lampara bien chida sentir material bien alumbrar super\n",
      "\n",
      "Texto original: Bueno Pues todo bien pero es metal, no aluminio como se pone.\n",
      "Texto limpio: bueno pues bien ser metal aluminio poner\n",
      "\n",
      "Texto original: Excelente Para lo q es, solo necesita recargar energía para q prenda y listo.\n",
      "Texto limpio: excelente q ser solo necesitar recargar energia q prenda listo\n",
      "\n",
      "Texto original: Excelente Excelente artículo, buena calidad.\n",
      "Texto limpio: excelente excelente articulo buen calidad\n",
      "\n"
     ]
    }
   ],
   "source": [
    "# Comparamos resultados.\n",
    "for i in range(5):\n",
    "    random_index = random.randint(0, len(mod_df))\n",
    "    print(f'Texto original: {mod_df[\"text_label\"][random_index]}')\n",
    "    print(f'Texto limpio: {mod_df[\"text_label_clean\"][random_index]}')\n",
    "    print('')"
   ]
  },
  {
   "cell_type": "code",
   "execution_count": 36,
   "metadata": {},
   "outputs": [
    {
     "name": "stdout",
     "output_type": "stream",
     "text": [
      "0\n"
     ]
    },
    {
     "data": {
      "text/html": [
       "<div>\n",
       "<style scoped>\n",
       "    .dataframe tbody tr th:only-of-type {\n",
       "        vertical-align: middle;\n",
       "    }\n",
       "\n",
       "    .dataframe tbody tr th {\n",
       "        vertical-align: top;\n",
       "    }\n",
       "\n",
       "    .dataframe thead th {\n",
       "        text-align: right;\n",
       "    }\n",
       "</style>\n",
       "<table border=\"1\" class=\"dataframe\">\n",
       "  <thead>\n",
       "    <tr style=\"text-align: right;\">\n",
       "      <th></th>\n",
       "      <th>title</th>\n",
       "      <th>content</th>\n",
       "      <th>text_label</th>\n",
       "      <th>text_label_clean</th>\n",
       "      <th>target</th>\n",
       "    </tr>\n",
       "  </thead>\n",
       "  <tbody>\n",
       "  </tbody>\n",
       "</table>\n",
       "</div>"
      ],
      "text/plain": [
       "Empty DataFrame\n",
       "Columns: [title, content, text_label, text_label_clean, target]\n",
       "Index: []"
      ]
     },
     "execution_count": 36,
     "metadata": {},
     "output_type": "execute_result"
    }
   ],
   "source": [
    "cols_to_select = ['title', 'content', 'text_label', 'text_label_clean', 'target']\n",
    "\n",
    "pattern = '@'\n",
    "print(len(search_char_in_column(mod_df[cols_to_select], 'text_label_clean', pattern)))\n",
    "search_char_in_column(mod_df[cols_to_select], 'text_label_clean', pattern)"
   ]
  },
  {
   "cell_type": "code",
   "execution_count": 37,
   "metadata": {},
   "outputs": [
    {
     "name": "stdout",
     "output_type": "stream",
     "text": [
      "0\n"
     ]
    },
    {
     "data": {
      "text/html": [
       "<div>\n",
       "<style scoped>\n",
       "    .dataframe tbody tr th:only-of-type {\n",
       "        vertical-align: middle;\n",
       "    }\n",
       "\n",
       "    .dataframe tbody tr th {\n",
       "        vertical-align: top;\n",
       "    }\n",
       "\n",
       "    .dataframe thead th {\n",
       "        text-align: right;\n",
       "    }\n",
       "</style>\n",
       "<table border=\"1\" class=\"dataframe\">\n",
       "  <thead>\n",
       "    <tr style=\"text-align: right;\">\n",
       "      <th></th>\n",
       "      <th>title</th>\n",
       "      <th>content</th>\n",
       "      <th>text_label</th>\n",
       "      <th>text_label_clean</th>\n",
       "      <th>target</th>\n",
       "    </tr>\n",
       "  </thead>\n",
       "  <tbody>\n",
       "  </tbody>\n",
       "</table>\n",
       "</div>"
      ],
      "text/plain": [
       "Empty DataFrame\n",
       "Columns: [title, content, text_label, text_label_clean, target]\n",
       "Index: []"
      ]
     },
     "execution_count": 37,
     "metadata": {},
     "output_type": "execute_result"
    }
   ],
   "source": [
    "pattern = 'www'\n",
    "print(len(search_char_in_column(mod_df[cols_to_select], 'text_label_clean', pattern)))\n",
    "search_char_in_column(mod_df[cols_to_select], 'text_label_clean', pattern)"
   ]
  },
  {
   "cell_type": "markdown",
   "metadata": {},
   "source": [
    "# Draft"
   ]
  }
 ],
 "metadata": {
  "kernelspec": {
   "display_name": "nubimetrics",
   "language": "python",
   "name": "python3"
  },
  "language_info": {
   "codemirror_mode": {
    "name": "ipython",
    "version": 3
   },
   "file_extension": ".py",
   "mimetype": "text/x-python",
   "name": "python",
   "nbconvert_exporter": "python",
   "pygments_lexer": "ipython3",
   "version": "3.11.11"
  }
 },
 "nbformat": 4,
 "nbformat_minor": 2
}
